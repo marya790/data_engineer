{
 "cells": [
  {
   "cell_type": "code",
   "execution_count": 19,
   "id": "87b9fc79",
   "metadata": {},
   "outputs": [],
   "source": [
    "import requests"
   ]
  },
  {
   "cell_type": "code",
   "execution_count": 35,
   "id": "47c2baa8",
   "metadata": {},
   "outputs": [],
   "source": [
    "import json"
   ]
  },
  {
   "cell_type": "code",
   "execution_count": 69,
   "id": "c68604ba",
   "metadata": {},
   "outputs": [],
   "source": [
    "import pandas as pd"
   ]
  },
  {
   "cell_type": "code",
   "execution_count": 18,
   "id": "e40fbc58",
   "metadata": {},
   "outputs": [],
   "source": [
    "import os"
   ]
  },
  {
   "cell_type": "code",
   "execution_count": 19,
   "id": "8560eaac",
   "metadata": {},
   "outputs": [
    {
     "name": "stdout",
     "output_type": "stream",
     "text": [
      "Datos guardados en :episodes.json\n"
     ]
    }
   ],
   "source": [
    "def get_schedule():\n",
    "    url = 'http://api.tvmaze.com/schedule/web?date>=2022-12-01?date<=2022-12-31'\n",
    "    try:\n",
    "        response = requests.get(url)\n",
    "        response.raise_for_status()\n",
    "        data = response.json()\n",
    "        \n",
    "        filename = \"episodes.json\"\n",
    "        dir_path = \"../json/\"\n",
    "        with open(os.path.join(dir_path, filename), \"w\") as json_file:\n",
    "            json.dump(data, json_file, indent=4)\n",
    "            \n",
    "            print(f\"Datos guardados en :{filename}\")\n",
    "            \n",
    "    except requests.exceptions.RequestException as e:\n",
    "        print(f\"Error al obtener los datos : {e}\")\n",
    "        \n",
    "if __name__ == \"__main__\":\n",
    "    get_schedule()"
   ]
  },
  {
   "cell_type": "code",
   "execution_count": 90,
   "id": "c58db189",
   "metadata": {},
   "outputs": [],
   "source": []
  }
 ],
 "metadata": {
  "kernelspec": {
   "display_name": "Python 3 (ipykernel)",
   "language": "python",
   "name": "python3"
  },
  "language_info": {
   "codemirror_mode": {
    "name": "ipython",
    "version": 3
   },
   "file_extension": ".py",
   "mimetype": "text/x-python",
   "name": "python",
   "nbconvert_exporter": "python",
   "pygments_lexer": "ipython3",
   "version": "3.9.13"
  }
 },
 "nbformat": 4,
 "nbformat_minor": 5
}
