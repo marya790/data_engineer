{
 "cells": [
  {
   "cell_type": "code",
   "execution_count": 10,
   "id": "87b9fc79",
   "metadata": {},
   "outputs": [],
   "source": [
    "import requests"
   ]
  },
  {
   "cell_type": "code",
   "execution_count": 14,
   "id": "47c2baa8",
   "metadata": {},
   "outputs": [],
   "source": [
    "import json"
   ]
  },
  {
   "cell_type": "code",
   "execution_count": 13,
   "id": "c68604ba",
   "metadata": {},
   "outputs": [],
   "source": [
    "import pandas as pd"
   ]
  },
  {
   "cell_type": "code",
   "execution_count": 12,
   "id": "e40fbc58",
   "metadata": {},
   "outputs": [],
   "source": [
    "import os"
   ]
  },
  {
   "cell_type": "code",
   "execution_count": 2,
   "id": "1ad92465",
   "metadata": {},
   "outputs": [],
   "source": [
    "import urllib.request, json "
   ]
  },
  {
   "cell_type": "code",
   "execution_count": 20,
   "id": "5753de0a",
   "metadata": {},
   "outputs": [
    {
     "name": "stdout",
     "output_type": "stream",
     "text": [
      "Datos guardados en :episodes.json\n"
     ]
    }
   ],
   "source": [
    "def get_schedule():\n",
    "    url = 'http://api.tvmaze.com/schedule/web?date>=2022-12-01?date<=2022-12-31'\n",
    "    try:\n",
    "        response = requests.get(url)\n",
    "        response.raise_for_status()\n",
    "        data = response.json()\n",
    "        \n",
    "        filename = \"episodes.json\"\n",
    "        dir_path = \"../json/\"\n",
    "        with open(os.path.join(dir_path, filename), \"w\") as json_file:\n",
    "            json.dump(data, json_file, indent=4)\n",
    "            \n",
    "            print(f\"Datos guardados en :{filename}\")\n",
    "                   \n",
    "    except requests.exceptions.RequestException as e:\n",
    "        print(f\"Error al obtener los datos : {e}\")\n",
    "        \n",
    "if __name__ == \"__main__\":\n",
    "    get_schedule()\n",
    "    \n"
   ]
  },
  {
   "cell_type": "code",
   "execution_count": 18,
   "id": "8560eaac",
   "metadata": {},
   "outputs": [
    {
     "ename": "NameError",
     "evalue": "name 'df_episodes' is not defined",
     "output_type": "error",
     "traceback": [
      "\u001b[1;31m---------------------------------------------------------------------------\u001b[0m",
      "\u001b[1;31mNameError\u001b[0m                                 Traceback (most recent call last)",
      "\u001b[1;32m~\\AppData\\Local\\Temp\\ipykernel_6552\\3688129598.py\u001b[0m in \u001b[0;36m<module>\u001b[1;34m\u001b[0m\n\u001b[1;32m----> 1\u001b[1;33m \u001b[0mdf_episodes\u001b[0m\u001b[1;33m(\u001b[0m\u001b[1;33m)\u001b[0m\u001b[1;33m\u001b[0m\u001b[1;33m\u001b[0m\u001b[0m\n\u001b[0m",
      "\u001b[1;31mNameError\u001b[0m: name 'df_episodes' is not defined"
     ]
    }
   ],
   "source": [
    "df_episodes()"
   ]
  },
  {
   "cell_type": "code",
   "execution_count": 20,
   "id": "c58db189",
   "metadata": {},
   "outputs": [
    {
     "name": "stdout",
     "output_type": "stream",
     "text": [
      "Datos guardados en : episodes.json\n"
     ]
    }
   ],
   "source": [
    "\n",
    "\n"
   ]
  },
  {
   "cell_type": "code",
   "execution_count": 6,
   "id": "83f27daf",
   "metadata": {},
   "outputs": [
    {
     "data": {
      "text/html": [
       "<div>\n",
       "<style scoped>\n",
       "    .dataframe tbody tr th:only-of-type {\n",
       "        vertical-align: middle;\n",
       "    }\n",
       "\n",
       "    .dataframe tbody tr th {\n",
       "        vertical-align: top;\n",
       "    }\n",
       "\n",
       "    .dataframe thead th {\n",
       "        text-align: right;\n",
       "    }\n",
       "</style>\n",
       "<table border=\"1\" class=\"dataframe\">\n",
       "  <thead>\n",
       "    <tr style=\"text-align: right;\">\n",
       "      <th></th>\n",
       "      <th>id</th>\n",
       "      <th>url</th>\n",
       "      <th>name</th>\n",
       "      <th>season</th>\n",
       "      <th>number</th>\n",
       "      <th>type</th>\n",
       "      <th>airdate</th>\n",
       "      <th>airtime</th>\n",
       "      <th>airstamp</th>\n",
       "      <th>runtime</th>\n",
       "      <th>...</th>\n",
       "      <th>_embedded.show.network.country.code</th>\n",
       "      <th>_embedded.show.network.country.timezone</th>\n",
       "      <th>_embedded.show.network.officialSite</th>\n",
       "      <th>_embedded.show.webChannel.country</th>\n",
       "      <th>image.medium</th>\n",
       "      <th>image.original</th>\n",
       "      <th>_embedded.show.dvdCountry.name</th>\n",
       "      <th>_embedded.show.dvdCountry.code</th>\n",
       "      <th>_embedded.show.dvdCountry.timezone</th>\n",
       "      <th>_embedded.show.webChannel</th>\n",
       "    </tr>\n",
       "  </thead>\n",
       "  <tbody>\n",
       "    <tr>\n",
       "      <th>0</th>\n",
       "      <td>2604879</td>\n",
       "      <td>https://www.tvmaze.com/episodes/2604879/na-str...</td>\n",
       "      <td>Серия 13</td>\n",
       "      <td>2</td>\n",
       "      <td>5</td>\n",
       "      <td>regular</td>\n",
       "      <td>2023-08-08</td>\n",
       "      <td></td>\n",
       "      <td>2023-08-08T00:00:00+00:00</td>\n",
       "      <td>NaN</td>\n",
       "      <td>...</td>\n",
       "      <td>NaN</td>\n",
       "      <td>NaN</td>\n",
       "      <td>NaN</td>\n",
       "      <td>NaN</td>\n",
       "      <td>NaN</td>\n",
       "      <td>NaN</td>\n",
       "      <td>NaN</td>\n",
       "      <td>NaN</td>\n",
       "      <td>NaN</td>\n",
       "      <td>NaN</td>\n",
       "    </tr>\n",
       "    <tr>\n",
       "      <th>1</th>\n",
       "      <td>2610181</td>\n",
       "      <td>https://www.tvmaze.com/episodes/2610181/zamaac...</td>\n",
       "      <td>Серия 3</td>\n",
       "      <td>1</td>\n",
       "      <td>3</td>\n",
       "      <td>regular</td>\n",
       "      <td>2023-08-08</td>\n",
       "      <td></td>\n",
       "      <td>2023-08-08T00:00:00+00:00</td>\n",
       "      <td>NaN</td>\n",
       "      <td>...</td>\n",
       "      <td>NaN</td>\n",
       "      <td>NaN</td>\n",
       "      <td>NaN</td>\n",
       "      <td>NaN</td>\n",
       "      <td>NaN</td>\n",
       "      <td>NaN</td>\n",
       "      <td>NaN</td>\n",
       "      <td>NaN</td>\n",
       "      <td>NaN</td>\n",
       "      <td>NaN</td>\n",
       "    </tr>\n",
       "    <tr>\n",
       "      <th>2</th>\n",
       "      <td>2598421</td>\n",
       "      <td>https://www.tvmaze.com/episodes/2598421/posled...</td>\n",
       "      <td>Серия 03</td>\n",
       "      <td>1</td>\n",
       "      <td>3</td>\n",
       "      <td>regular</td>\n",
       "      <td>2023-08-08</td>\n",
       "      <td></td>\n",
       "      <td>2023-08-08T00:00:00+00:00</td>\n",
       "      <td>NaN</td>\n",
       "      <td>...</td>\n",
       "      <td>NaN</td>\n",
       "      <td>NaN</td>\n",
       "      <td>NaN</td>\n",
       "      <td>NaN</td>\n",
       "      <td>NaN</td>\n",
       "      <td>NaN</td>\n",
       "      <td>NaN</td>\n",
       "      <td>NaN</td>\n",
       "      <td>NaN</td>\n",
       "      <td>NaN</td>\n",
       "    </tr>\n",
       "    <tr>\n",
       "      <th>3</th>\n",
       "      <td>2599349</td>\n",
       "      <td>https://www.tvmaze.com/episodes/2599349/61st-s...</td>\n",
       "      <td>The Offer</td>\n",
       "      <td>2</td>\n",
       "      <td>7</td>\n",
       "      <td>regular</td>\n",
       "      <td>2023-08-08</td>\n",
       "      <td></td>\n",
       "      <td>2023-08-08T02:00:00+00:00</td>\n",
       "      <td>NaN</td>\n",
       "      <td>...</td>\n",
       "      <td>NaN</td>\n",
       "      <td>NaN</td>\n",
       "      <td>NaN</td>\n",
       "      <td>NaN</td>\n",
       "      <td>NaN</td>\n",
       "      <td>NaN</td>\n",
       "      <td>NaN</td>\n",
       "      <td>NaN</td>\n",
       "      <td>NaN</td>\n",
       "      <td>NaN</td>\n",
       "    </tr>\n",
       "    <tr>\n",
       "      <th>4</th>\n",
       "      <td>2561116</td>\n",
       "      <td>https://www.tvmaze.com/episodes/2561116/wu-she...</td>\n",
       "      <td>Episode 357</td>\n",
       "      <td>1</td>\n",
       "      <td>357</td>\n",
       "      <td>regular</td>\n",
       "      <td>2023-08-08</td>\n",
       "      <td>10:00</td>\n",
       "      <td>2023-08-08T02:00:00+00:00</td>\n",
       "      <td>5.0</td>\n",
       "      <td>...</td>\n",
       "      <td>NaN</td>\n",
       "      <td>NaN</td>\n",
       "      <td>NaN</td>\n",
       "      <td>NaN</td>\n",
       "      <td>NaN</td>\n",
       "      <td>NaN</td>\n",
       "      <td>NaN</td>\n",
       "      <td>NaN</td>\n",
       "      <td>NaN</td>\n",
       "      <td>NaN</td>\n",
       "    </tr>\n",
       "  </tbody>\n",
       "</table>\n",
       "<p>5 rows × 62 columns</p>\n",
       "</div>"
      ],
      "text/plain": [
       "        id                                                url         name  \\\n",
       "0  2604879  https://www.tvmaze.com/episodes/2604879/na-str...     Серия 13   \n",
       "1  2610181  https://www.tvmaze.com/episodes/2610181/zamaac...      Серия 3   \n",
       "2  2598421  https://www.tvmaze.com/episodes/2598421/posled...     Серия 03   \n",
       "3  2599349  https://www.tvmaze.com/episodes/2599349/61st-s...    The Offer   \n",
       "4  2561116  https://www.tvmaze.com/episodes/2561116/wu-she...  Episode 357   \n",
       "\n",
       "   season  number     type     airdate airtime                   airstamp  \\\n",
       "0       2       5  regular  2023-08-08          2023-08-08T00:00:00+00:00   \n",
       "1       1       3  regular  2023-08-08          2023-08-08T00:00:00+00:00   \n",
       "2       1       3  regular  2023-08-08          2023-08-08T00:00:00+00:00   \n",
       "3       2       7  regular  2023-08-08          2023-08-08T02:00:00+00:00   \n",
       "4       1     357  regular  2023-08-08   10:00  2023-08-08T02:00:00+00:00   \n",
       "\n",
       "   runtime  ...  _embedded.show.network.country.code  \\\n",
       "0      NaN  ...                                  NaN   \n",
       "1      NaN  ...                                  NaN   \n",
       "2      NaN  ...                                  NaN   \n",
       "3      NaN  ...                                  NaN   \n",
       "4      5.0  ...                                  NaN   \n",
       "\n",
       "  _embedded.show.network.country.timezone  \\\n",
       "0                                     NaN   \n",
       "1                                     NaN   \n",
       "2                                     NaN   \n",
       "3                                     NaN   \n",
       "4                                     NaN   \n",
       "\n",
       "   _embedded.show.network.officialSite _embedded.show.webChannel.country  \\\n",
       "0                                  NaN                               NaN   \n",
       "1                                  NaN                               NaN   \n",
       "2                                  NaN                               NaN   \n",
       "3                                  NaN                               NaN   \n",
       "4                                  NaN                               NaN   \n",
       "\n",
       "  image.medium  image.original _embedded.show.dvdCountry.name  \\\n",
       "0          NaN             NaN                            NaN   \n",
       "1          NaN             NaN                            NaN   \n",
       "2          NaN             NaN                            NaN   \n",
       "3          NaN             NaN                            NaN   \n",
       "4          NaN             NaN                            NaN   \n",
       "\n",
       "  _embedded.show.dvdCountry.code _embedded.show.dvdCountry.timezone  \\\n",
       "0                            NaN                                NaN   \n",
       "1                            NaN                                NaN   \n",
       "2                            NaN                                NaN   \n",
       "3                            NaN                                NaN   \n",
       "4                            NaN                                NaN   \n",
       "\n",
       "  _embedded.show.webChannel  \n",
       "0                       NaN  \n",
       "1                       NaN  \n",
       "2                       NaN  \n",
       "3                       NaN  \n",
       "4                       NaN  \n",
       "\n",
       "[5 rows x 62 columns]"
      ]
     },
     "execution_count": 6,
     "metadata": {},
     "output_type": "execute_result"
    }
   ],
   "source": [
    "with urllib.request.urlopen(\"https://api.tvmaze.com/schedule/web?date%3E=2022-12-01?date%3C=2022-12-31%27\") as url:\n",
    "    data = json.loads(url.read().decode())\n",
    "    ##df = pd.json_normalize(data, meta=['name', ['_embedded', 'show', 'name']])\n",
    "    df = pd.json_normalize(data)\n",
    "df.head()\n",
    "\n",
    "##df['_embedded.show.network.country.code']   "
   ]
  },
  {
   "cell_type": "code",
   "execution_count": 7,
   "id": "902927b8",
   "metadata": {},
   "outputs": [
    {
     "data": {
      "text/plain": [
       "pandas.core.frame.DataFrame"
      ]
     },
     "execution_count": 7,
     "metadata": {},
     "output_type": "execute_result"
    }
   ],
   "source": [
    "type(df)"
   ]
  },
  {
   "cell_type": "code",
   "execution_count": 8,
   "id": "5b91addb",
   "metadata": {},
   "outputs": [
    {
     "ename": "TypeError",
     "evalue": "'Index' object is not callable",
     "output_type": "error",
     "traceback": [
      "\u001b[1;31m---------------------------------------------------------------------------\u001b[0m",
      "\u001b[1;31mTypeError\u001b[0m                                 Traceback (most recent call last)",
      "\u001b[1;32m~\\AppData\\Local\\Temp\\ipykernel_6552\\2201091848.py\u001b[0m in \u001b[0;36m<module>\u001b[1;34m\u001b[0m\n\u001b[1;32m----> 1\u001b[1;33m \u001b[0mdf\u001b[0m\u001b[1;33m.\u001b[0m\u001b[0mcolumns\u001b[0m\u001b[1;33m(\u001b[0m\u001b[1;33m)\u001b[0m\u001b[1;33m\u001b[0m\u001b[1;33m\u001b[0m\u001b[0m\n\u001b[0m",
      "\u001b[1;31mTypeError\u001b[0m: 'Index' object is not callable"
     ]
    }
   ],
   "source": [
    "df.columns()"
   ]
  },
  {
   "cell_type": "code",
   "execution_count": 50,
   "id": "b8ca7f8b",
   "metadata": {},
   "outputs": [
    {
     "ename": "KeyError",
     "evalue": "'regular'",
     "output_type": "error",
     "traceback": [
      "\u001b[1;31m---------------------------------------------------------------------------\u001b[0m",
      "\u001b[1;31mKeyError\u001b[0m                                  Traceback (most recent call last)",
      "\u001b[1;32m~\\AppData\\Local\\Temp\\ipykernel_5220\\2031325492.py\u001b[0m in \u001b[0;36m<module>\u001b[1;34m\u001b[0m\n\u001b[1;32m----> 1\u001b[1;33m \u001b[0mgrouped_genres\u001b[0m \u001b[1;33m=\u001b[0m \u001b[0mdf\u001b[0m\u001b[1;33m.\u001b[0m\u001b[0mgroupby\u001b[0m\u001b[1;33m(\u001b[0m\u001b[1;33m[\u001b[0m\u001b[1;34m'type'\u001b[0m\u001b[1;33m,\u001b[0m\u001b[1;34m'regular'\u001b[0m\u001b[1;33m]\u001b[0m\u001b[1;33m)\u001b[0m\u001b[1;33m.\u001b[0m\u001b[0mcount\u001b[0m\u001b[1;33m(\u001b[0m\u001b[1;33m)\u001b[0m\u001b[1;33m[\u001b[0m\u001b[1;34m'type'\u001b[0m\u001b[1;33m]\u001b[0m\u001b[1;33m\u001b[0m\u001b[1;33m\u001b[0m\u001b[0m\n\u001b[0m\u001b[0;32m      2\u001b[0m \u001b[0mprint\u001b[0m\u001b[1;33m(\u001b[0m\u001b[0mgrouped_genres\u001b[0m\u001b[1;33m)\u001b[0m\u001b[1;33m\u001b[0m\u001b[1;33m\u001b[0m\u001b[0m\n",
      "\u001b[1;32m~\\anaconda3\\lib\\site-packages\\pandas\\core\\frame.py\u001b[0m in \u001b[0;36mgroupby\u001b[1;34m(self, by, axis, level, as_index, sort, group_keys, squeeze, observed, dropna)\u001b[0m\n\u001b[0;32m   7719\u001b[0m         \u001b[1;31m# error: Argument \"squeeze\" to \"DataFrameGroupBy\" has incompatible type\u001b[0m\u001b[1;33m\u001b[0m\u001b[1;33m\u001b[0m\u001b[0m\n\u001b[0;32m   7720\u001b[0m         \u001b[1;31m# \"Union[bool, NoDefault]\"; expected \"bool\"\u001b[0m\u001b[1;33m\u001b[0m\u001b[1;33m\u001b[0m\u001b[0m\n\u001b[1;32m-> 7721\u001b[1;33m         return DataFrameGroupBy(\n\u001b[0m\u001b[0;32m   7722\u001b[0m             \u001b[0mobj\u001b[0m\u001b[1;33m=\u001b[0m\u001b[0mself\u001b[0m\u001b[1;33m,\u001b[0m\u001b[1;33m\u001b[0m\u001b[1;33m\u001b[0m\u001b[0m\n\u001b[0;32m   7723\u001b[0m             \u001b[0mkeys\u001b[0m\u001b[1;33m=\u001b[0m\u001b[0mby\u001b[0m\u001b[1;33m,\u001b[0m\u001b[1;33m\u001b[0m\u001b[1;33m\u001b[0m\u001b[0m\n",
      "\u001b[1;32m~\\anaconda3\\lib\\site-packages\\pandas\\core\\groupby\\groupby.py\u001b[0m in \u001b[0;36m__init__\u001b[1;34m(self, obj, keys, axis, level, grouper, exclusions, selection, as_index, sort, group_keys, squeeze, observed, mutated, dropna)\u001b[0m\n\u001b[0;32m    880\u001b[0m             \u001b[1;32mfrom\u001b[0m \u001b[0mpandas\u001b[0m\u001b[1;33m.\u001b[0m\u001b[0mcore\u001b[0m\u001b[1;33m.\u001b[0m\u001b[0mgroupby\u001b[0m\u001b[1;33m.\u001b[0m\u001b[0mgrouper\u001b[0m \u001b[1;32mimport\u001b[0m \u001b[0mget_grouper\u001b[0m\u001b[1;33m\u001b[0m\u001b[1;33m\u001b[0m\u001b[0m\n\u001b[0;32m    881\u001b[0m \u001b[1;33m\u001b[0m\u001b[0m\n\u001b[1;32m--> 882\u001b[1;33m             grouper, exclusions, obj = get_grouper(\n\u001b[0m\u001b[0;32m    883\u001b[0m                 \u001b[0mobj\u001b[0m\u001b[1;33m,\u001b[0m\u001b[1;33m\u001b[0m\u001b[1;33m\u001b[0m\u001b[0m\n\u001b[0;32m    884\u001b[0m                 \u001b[0mkeys\u001b[0m\u001b[1;33m,\u001b[0m\u001b[1;33m\u001b[0m\u001b[1;33m\u001b[0m\u001b[0m\n",
      "\u001b[1;32m~\\anaconda3\\lib\\site-packages\\pandas\\core\\groupby\\grouper.py\u001b[0m in \u001b[0;36mget_grouper\u001b[1;34m(obj, key, axis, level, sort, observed, mutated, validate, dropna)\u001b[0m\n\u001b[0;32m    880\u001b[0m                 \u001b[0min_axis\u001b[0m\u001b[1;33m,\u001b[0m \u001b[0mlevel\u001b[0m\u001b[1;33m,\u001b[0m \u001b[0mgpr\u001b[0m \u001b[1;33m=\u001b[0m \u001b[1;32mFalse\u001b[0m\u001b[1;33m,\u001b[0m \u001b[0mgpr\u001b[0m\u001b[1;33m,\u001b[0m \u001b[1;32mNone\u001b[0m\u001b[1;33m\u001b[0m\u001b[1;33m\u001b[0m\u001b[0m\n\u001b[0;32m    881\u001b[0m             \u001b[1;32melse\u001b[0m\u001b[1;33m:\u001b[0m\u001b[1;33m\u001b[0m\u001b[1;33m\u001b[0m\u001b[0m\n\u001b[1;32m--> 882\u001b[1;33m                 \u001b[1;32mraise\u001b[0m \u001b[0mKeyError\u001b[0m\u001b[1;33m(\u001b[0m\u001b[0mgpr\u001b[0m\u001b[1;33m)\u001b[0m\u001b[1;33m\u001b[0m\u001b[1;33m\u001b[0m\u001b[0m\n\u001b[0m\u001b[0;32m    883\u001b[0m         \u001b[1;32melif\u001b[0m \u001b[0misinstance\u001b[0m\u001b[1;33m(\u001b[0m\u001b[0mgpr\u001b[0m\u001b[1;33m,\u001b[0m \u001b[0mGrouper\u001b[0m\u001b[1;33m)\u001b[0m \u001b[1;32mand\u001b[0m \u001b[0mgpr\u001b[0m\u001b[1;33m.\u001b[0m\u001b[0mkey\u001b[0m \u001b[1;32mis\u001b[0m \u001b[1;32mnot\u001b[0m \u001b[1;32mNone\u001b[0m\u001b[1;33m:\u001b[0m\u001b[1;33m\u001b[0m\u001b[1;33m\u001b[0m\u001b[0m\n\u001b[0;32m    884\u001b[0m             \u001b[1;31m# Add key to exclusions\u001b[0m\u001b[1;33m\u001b[0m\u001b[1;33m\u001b[0m\u001b[0m\n",
      "\u001b[1;31mKeyError\u001b[0m: 'regular'"
     ]
    }
   ],
   "source": [
    "grouped_genres = df.groupby(['type','regular']).count()['type']\n",
    "print(grouped_genres)"
   ]
  }
 ],
 "metadata": {
  "kernelspec": {
   "display_name": "Python 3 (ipykernel)",
   "language": "python",
   "name": "python3"
  },
  "language_info": {
   "codemirror_mode": {
    "name": "ipython",
    "version": 3
   },
   "file_extension": ".py",
   "mimetype": "text/x-python",
   "name": "python",
   "nbconvert_exporter": "python",
   "pygments_lexer": "ipython3",
   "version": "3.9.13"
  }
 },
 "nbformat": 4,
 "nbformat_minor": 5
}
