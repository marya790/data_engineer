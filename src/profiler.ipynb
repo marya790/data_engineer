{
 "cells": [
  {
   "cell_type": "code",
   "execution_count": 1,
   "id": "9d6bc378",
   "metadata": {},
   "outputs": [],
   "source": [
    "import pandas as pd"
   ]
  },
  {
   "cell_type": "code",
   "execution_count": 2,
   "id": "0aed9835",
   "metadata": {},
   "outputs": [],
   "source": [
    "import json"
   ]
  },
  {
   "cell_type": "code",
   "execution_count": 3,
   "id": "fee06897",
   "metadata": {},
   "outputs": [],
   "source": [
    "df_episodes = pd.read_json('../json/episodes.json')\n"
   ]
  },
  {
   "cell_type": "code",
   "execution_count": 4,
   "id": "e11c30ad",
   "metadata": {},
   "outputs": [
    {
     "name": "stdout",
     "output_type": "stream",
     "text": [
      "id\n",
      "url\n",
      "name\n",
      "season\n",
      "number\n",
      "type\n",
      "airdate\n",
      "airtime\n",
      "airstamp\n",
      "runtime\n",
      "rating\n",
      "image\n",
      "summary\n",
      "_links\n",
      "_embedded\n"
     ]
    }
   ],
   "source": [
    "for clave in df_episodes.keys():\n",
    "    print(clave)"
   ]
  }
 ],
 "metadata": {
  "kernelspec": {
   "display_name": "Python 3 (ipykernel)",
   "language": "python",
   "name": "python3"
  },
  "language_info": {
   "codemirror_mode": {
    "name": "ipython",
    "version": 3
   },
   "file_extension": ".py",
   "mimetype": "text/x-python",
   "name": "python",
   "nbconvert_exporter": "python",
   "pygments_lexer": "ipython3",
   "version": "3.9.13"
  }
 },
 "nbformat": 4,
 "nbformat_minor": 5
}
