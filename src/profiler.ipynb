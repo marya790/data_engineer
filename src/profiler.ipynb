{
 "cells": [
  {
   "cell_type": "markdown",
   "id": "c11da358",
   "metadata": {},
   "source": [
    "Librerias Requeridas"
   ]
  },
  {
   "cell_type": "code",
   "execution_count": 173,
   "id": "27375752",
   "metadata": {},
   "outputs": [
    {
     "name": "stdout",
     "output_type": "stream",
     "text": [
      "Requirement already satisfied: pyarrow in c:\\users\\prestamo\\anaconda3\\lib\\site-packages (12.0.1)\n",
      "Requirement already satisfied: numpy>=1.16.6 in c:\\users\\prestamo\\anaconda3\\lib\\site-packages (from pyarrow) (1.21.5)\n",
      "Note: you may need to restart the kernel to use updated packages.\n"
     ]
    }
   ],
   "source": [
    "pip install pyarrow"
   ]
  },
  {
   "cell_type": "code",
   "execution_count": null,
   "id": "c3595d9f",
   "metadata": {},
   "outputs": [],
   "source": [
    "import requests"
   ]
  },
  {
   "cell_type": "code",
   "execution_count": 10,
   "id": "0aed9835",
   "metadata": {},
   "outputs": [],
   "source": [
    "import json"
   ]
  },
  {
   "cell_type": "code",
   "execution_count": 11,
   "id": "d272c136",
   "metadata": {},
   "outputs": [],
   "source": [
    "%matplotlib inline"
   ]
  },
  {
   "cell_type": "code",
   "execution_count": 12,
   "id": "11d750b5",
   "metadata": {},
   "outputs": [],
   "source": [
    "import matplotlib.pyplot as plt"
   ]
  },
  {
   "cell_type": "code",
   "execution_count": 78,
   "id": "6143052d",
   "metadata": {},
   "outputs": [],
   "source": [
    "from urllib.parse import urlparse"
   ]
  },
  {
   "cell_type": "code",
   "execution_count": null,
   "id": "086b4e7e",
   "metadata": {},
   "outputs": [],
   "source": [
    "import pandas as pd"
   ]
  },
  {
   "cell_type": "code",
   "execution_count": 169,
   "id": "a1efbdc4",
   "metadata": {},
   "outputs": [],
   "source": [
    "import os"
   ]
  },
  {
   "cell_type": "markdown",
   "id": "20648778",
   "metadata": {},
   "source": [
    "Extracción "
   ]
  },
  {
   "cell_type": "code",
   "execution_count": 13,
   "id": "547b30df",
   "metadata": {},
   "outputs": [],
   "source": [
    "## Lectura de DataFrame con toda la estructura JSON, exploracion de datos, columnas"
   ]
  },
  {
   "cell_type": "code",
   "execution_count": 14,
   "id": "cd16feee",
   "metadata": {},
   "outputs": [
    {
     "name": "stdout",
     "output_type": "stream",
     "text": [
      "         id                                                url           name  \\\n",
      "0   2604879  https://www.tvmaze.com/episodes/2604879/na-str...       Серия 13   \n",
      "1   2610181  https://www.tvmaze.com/episodes/2610181/zamaac...        Серия 3   \n",
      "2   2598421  https://www.tvmaze.com/episodes/2598421/posled...       Серия 03   \n",
      "3   2599349  https://www.tvmaze.com/episodes/2599349/61st-s...      The Offer   \n",
      "4   2561116  https://www.tvmaze.com/episodes/2561116/wu-she...    Episode 357   \n",
      "..      ...                                                ...            ...   \n",
      "86  2544464  https://www.tvmaze.com/episodes/2544464/wwe-nx...     Episode 32   \n",
      "87  2560157  https://www.tvmaze.com/episodes/2560157/forsta...      Avsnitt 9   \n",
      "88  2617225  https://www.tvmaze.com/episodes/2617225/no-lim...     Episódio 7   \n",
      "89  2599200  https://www.tvmaze.com/episodes/2599200/politi...  Brann i blokk   \n",
      "90  2612115  https://www.tvmaze.com/episodes/2612115/the-ul...     Episode 11   \n",
      "\n",
      "    season  number     type     airdate airtime                   airstamp  \\\n",
      "0        2       5  regular  2023-08-08          2023-08-08T00:00:00+00:00   \n",
      "1        1       3  regular  2023-08-08          2023-08-08T00:00:00+00:00   \n",
      "2        1       3  regular  2023-08-08          2023-08-08T00:00:00+00:00   \n",
      "3        2       7  regular  2023-08-08          2023-08-08T02:00:00+00:00   \n",
      "4        1     357  regular  2023-08-08   10:00  2023-08-08T02:00:00+00:00   \n",
      "..     ...     ...      ...         ...     ...                        ...   \n",
      "86      17      32  regular  2023-08-08   20:00  2023-08-09T00:00:00+00:00   \n",
      "87       7       9  regular  2023-08-08   02:00  2023-08-09T00:00:00+00:00   \n",
      "88       7       7  regular  2023-08-08   22:30  2023-08-09T00:30:00+00:00   \n",
      "89       1      23  regular  2023-08-08   03:00  2023-08-09T01:00:00+00:00   \n",
      "90      31      11  regular  2023-08-08   22:00  2023-08-09T02:00:00+00:00   \n",
      "\n",
      "    runtime  ...  _embedded.show.network.country.code  \\\n",
      "0       NaN  ...                                  NaN   \n",
      "1       NaN  ...                                  NaN   \n",
      "2       NaN  ...                                  NaN   \n",
      "3       NaN  ...                                  NaN   \n",
      "4       5.0  ...                                  NaN   \n",
      "..      ...  ...                                  ...   \n",
      "86    120.0  ...                                   US   \n",
      "87     30.0  ...                                  NaN   \n",
      "88     90.0  ...                                   BR   \n",
      "89     25.0  ...                                  NaN   \n",
      "90     60.0  ...                                  NaN   \n",
      "\n",
      "   _embedded.show.network.country.timezone  \\\n",
      "0                                      NaN   \n",
      "1                                      NaN   \n",
      "2                                      NaN   \n",
      "3                                      NaN   \n",
      "4                                      NaN   \n",
      "..                                     ...   \n",
      "86                        America/New_York   \n",
      "87                                     NaN   \n",
      "88                         America/Noronha   \n",
      "89                                     NaN   \n",
      "90                                     NaN   \n",
      "\n",
      "    _embedded.show.network.officialSite _embedded.show.webChannel.country  \\\n",
      "0                                   NaN                               NaN   \n",
      "1                                   NaN                               NaN   \n",
      "2                                   NaN                               NaN   \n",
      "3                                   NaN                               NaN   \n",
      "4                                   NaN                               NaN   \n",
      "..                                  ...                               ...   \n",
      "86           https://www.usanetwork.com                               NaN   \n",
      "87                                  NaN                               NaN   \n",
      "88                                 None                               NaN   \n",
      "89                                  NaN                               NaN   \n",
      "90                                  NaN                               NaN   \n",
      "\n",
      "   image.medium  image.original _embedded.show.dvdCountry.name  \\\n",
      "0           NaN             NaN                            NaN   \n",
      "1           NaN             NaN                            NaN   \n",
      "2           NaN             NaN                            NaN   \n",
      "3           NaN             NaN                            NaN   \n",
      "4           NaN             NaN                            NaN   \n",
      "..          ...             ...                            ...   \n",
      "86          NaN             NaN                            NaN   \n",
      "87          NaN             NaN                            NaN   \n",
      "88          NaN             NaN                            NaN   \n",
      "89          NaN             NaN                            NaN   \n",
      "90          NaN             NaN                            NaN   \n",
      "\n",
      "   _embedded.show.dvdCountry.code _embedded.show.dvdCountry.timezone  \\\n",
      "0                             NaN                                NaN   \n",
      "1                             NaN                                NaN   \n",
      "2                             NaN                                NaN   \n",
      "3                             NaN                                NaN   \n",
      "4                             NaN                                NaN   \n",
      "..                            ...                                ...   \n",
      "86                            NaN                                NaN   \n",
      "87                            NaN                                NaN   \n",
      "88                            NaN                                NaN   \n",
      "89                            NaN                                NaN   \n",
      "90                            NaN                                NaN   \n",
      "\n",
      "   _embedded.show.webChannel  \n",
      "0                        NaN  \n",
      "1                        NaN  \n",
      "2                        NaN  \n",
      "3                        NaN  \n",
      "4                        NaN  \n",
      "..                       ...  \n",
      "86                       NaN  \n",
      "87                       NaN  \n",
      "88                       NaN  \n",
      "89                       NaN  \n",
      "90                       NaN  \n",
      "\n",
      "[91 rows x 62 columns]\n"
     ]
    }
   ],
   "source": [
    "def load_json()\n",
    " \n",
    "with open(json_filename, \"r\") as json_file:\n",
    "    data_list = json.load(json_file) \n",
    "\n",
    "    first_dict = data_list\n",
    "    df_episodes = pd.json_normalize(first_dict)\n",
    "    print(df_episodes)\n"
   ]
  },
  {
   "cell_type": "code",
   "execution_count": 15,
   "id": "e6ec8d01",
   "metadata": {},
   "outputs": [
    {
     "data": {
      "text/html": [
       "<div>\n",
       "<style scoped>\n",
       "    .dataframe tbody tr th:only-of-type {\n",
       "        vertical-align: middle;\n",
       "    }\n",
       "\n",
       "    .dataframe tbody tr th {\n",
       "        vertical-align: top;\n",
       "    }\n",
       "\n",
       "    .dataframe thead th {\n",
       "        text-align: right;\n",
       "    }\n",
       "</style>\n",
       "<table border=\"1\" class=\"dataframe\">\n",
       "  <thead>\n",
       "    <tr style=\"text-align: right;\">\n",
       "      <th></th>\n",
       "      <th>id</th>\n",
       "      <th>url</th>\n",
       "      <th>name</th>\n",
       "      <th>season</th>\n",
       "      <th>number</th>\n",
       "      <th>type</th>\n",
       "      <th>airdate</th>\n",
       "      <th>airtime</th>\n",
       "      <th>airstamp</th>\n",
       "      <th>runtime</th>\n",
       "      <th>...</th>\n",
       "      <th>_embedded.show.network.country.code</th>\n",
       "      <th>_embedded.show.network.country.timezone</th>\n",
       "      <th>_embedded.show.network.officialSite</th>\n",
       "      <th>_embedded.show.webChannel.country</th>\n",
       "      <th>image.medium</th>\n",
       "      <th>image.original</th>\n",
       "      <th>_embedded.show.dvdCountry.name</th>\n",
       "      <th>_embedded.show.dvdCountry.code</th>\n",
       "      <th>_embedded.show.dvdCountry.timezone</th>\n",
       "      <th>_embedded.show.webChannel</th>\n",
       "    </tr>\n",
       "  </thead>\n",
       "  <tbody>\n",
       "    <tr>\n",
       "      <th>0</th>\n",
       "      <td>2604879</td>\n",
       "      <td>https://www.tvmaze.com/episodes/2604879/na-str...</td>\n",
       "      <td>Серия 13</td>\n",
       "      <td>2</td>\n",
       "      <td>5</td>\n",
       "      <td>regular</td>\n",
       "      <td>2023-08-08</td>\n",
       "      <td></td>\n",
       "      <td>2023-08-08T00:00:00+00:00</td>\n",
       "      <td>NaN</td>\n",
       "      <td>...</td>\n",
       "      <td>NaN</td>\n",
       "      <td>NaN</td>\n",
       "      <td>NaN</td>\n",
       "      <td>NaN</td>\n",
       "      <td>NaN</td>\n",
       "      <td>NaN</td>\n",
       "      <td>NaN</td>\n",
       "      <td>NaN</td>\n",
       "      <td>NaN</td>\n",
       "      <td>NaN</td>\n",
       "    </tr>\n",
       "    <tr>\n",
       "      <th>1</th>\n",
       "      <td>2610181</td>\n",
       "      <td>https://www.tvmaze.com/episodes/2610181/zamaac...</td>\n",
       "      <td>Серия 3</td>\n",
       "      <td>1</td>\n",
       "      <td>3</td>\n",
       "      <td>regular</td>\n",
       "      <td>2023-08-08</td>\n",
       "      <td></td>\n",
       "      <td>2023-08-08T00:00:00+00:00</td>\n",
       "      <td>NaN</td>\n",
       "      <td>...</td>\n",
       "      <td>NaN</td>\n",
       "      <td>NaN</td>\n",
       "      <td>NaN</td>\n",
       "      <td>NaN</td>\n",
       "      <td>NaN</td>\n",
       "      <td>NaN</td>\n",
       "      <td>NaN</td>\n",
       "      <td>NaN</td>\n",
       "      <td>NaN</td>\n",
       "      <td>NaN</td>\n",
       "    </tr>\n",
       "    <tr>\n",
       "      <th>2</th>\n",
       "      <td>2598421</td>\n",
       "      <td>https://www.tvmaze.com/episodes/2598421/posled...</td>\n",
       "      <td>Серия 03</td>\n",
       "      <td>1</td>\n",
       "      <td>3</td>\n",
       "      <td>regular</td>\n",
       "      <td>2023-08-08</td>\n",
       "      <td></td>\n",
       "      <td>2023-08-08T00:00:00+00:00</td>\n",
       "      <td>NaN</td>\n",
       "      <td>...</td>\n",
       "      <td>NaN</td>\n",
       "      <td>NaN</td>\n",
       "      <td>NaN</td>\n",
       "      <td>NaN</td>\n",
       "      <td>NaN</td>\n",
       "      <td>NaN</td>\n",
       "      <td>NaN</td>\n",
       "      <td>NaN</td>\n",
       "      <td>NaN</td>\n",
       "      <td>NaN</td>\n",
       "    </tr>\n",
       "    <tr>\n",
       "      <th>3</th>\n",
       "      <td>2599349</td>\n",
       "      <td>https://www.tvmaze.com/episodes/2599349/61st-s...</td>\n",
       "      <td>The Offer</td>\n",
       "      <td>2</td>\n",
       "      <td>7</td>\n",
       "      <td>regular</td>\n",
       "      <td>2023-08-08</td>\n",
       "      <td></td>\n",
       "      <td>2023-08-08T02:00:00+00:00</td>\n",
       "      <td>NaN</td>\n",
       "      <td>...</td>\n",
       "      <td>NaN</td>\n",
       "      <td>NaN</td>\n",
       "      <td>NaN</td>\n",
       "      <td>NaN</td>\n",
       "      <td>NaN</td>\n",
       "      <td>NaN</td>\n",
       "      <td>NaN</td>\n",
       "      <td>NaN</td>\n",
       "      <td>NaN</td>\n",
       "      <td>NaN</td>\n",
       "    </tr>\n",
       "    <tr>\n",
       "      <th>4</th>\n",
       "      <td>2561116</td>\n",
       "      <td>https://www.tvmaze.com/episodes/2561116/wu-she...</td>\n",
       "      <td>Episode 357</td>\n",
       "      <td>1</td>\n",
       "      <td>357</td>\n",
       "      <td>regular</td>\n",
       "      <td>2023-08-08</td>\n",
       "      <td>10:00</td>\n",
       "      <td>2023-08-08T02:00:00+00:00</td>\n",
       "      <td>5.0</td>\n",
       "      <td>...</td>\n",
       "      <td>NaN</td>\n",
       "      <td>NaN</td>\n",
       "      <td>NaN</td>\n",
       "      <td>NaN</td>\n",
       "      <td>NaN</td>\n",
       "      <td>NaN</td>\n",
       "      <td>NaN</td>\n",
       "      <td>NaN</td>\n",
       "      <td>NaN</td>\n",
       "      <td>NaN</td>\n",
       "    </tr>\n",
       "  </tbody>\n",
       "</table>\n",
       "<p>5 rows × 62 columns</p>\n",
       "</div>"
      ],
      "text/plain": [
       "        id                                                url         name  \\\n",
       "0  2604879  https://www.tvmaze.com/episodes/2604879/na-str...     Серия 13   \n",
       "1  2610181  https://www.tvmaze.com/episodes/2610181/zamaac...      Серия 3   \n",
       "2  2598421  https://www.tvmaze.com/episodes/2598421/posled...     Серия 03   \n",
       "3  2599349  https://www.tvmaze.com/episodes/2599349/61st-s...    The Offer   \n",
       "4  2561116  https://www.tvmaze.com/episodes/2561116/wu-she...  Episode 357   \n",
       "\n",
       "   season  number     type     airdate airtime                   airstamp  \\\n",
       "0       2       5  regular  2023-08-08          2023-08-08T00:00:00+00:00   \n",
       "1       1       3  regular  2023-08-08          2023-08-08T00:00:00+00:00   \n",
       "2       1       3  regular  2023-08-08          2023-08-08T00:00:00+00:00   \n",
       "3       2       7  regular  2023-08-08          2023-08-08T02:00:00+00:00   \n",
       "4       1     357  regular  2023-08-08   10:00  2023-08-08T02:00:00+00:00   \n",
       "\n",
       "   runtime  ...  _embedded.show.network.country.code  \\\n",
       "0      NaN  ...                                  NaN   \n",
       "1      NaN  ...                                  NaN   \n",
       "2      NaN  ...                                  NaN   \n",
       "3      NaN  ...                                  NaN   \n",
       "4      5.0  ...                                  NaN   \n",
       "\n",
       "  _embedded.show.network.country.timezone  \\\n",
       "0                                     NaN   \n",
       "1                                     NaN   \n",
       "2                                     NaN   \n",
       "3                                     NaN   \n",
       "4                                     NaN   \n",
       "\n",
       "   _embedded.show.network.officialSite _embedded.show.webChannel.country  \\\n",
       "0                                  NaN                               NaN   \n",
       "1                                  NaN                               NaN   \n",
       "2                                  NaN                               NaN   \n",
       "3                                  NaN                               NaN   \n",
       "4                                  NaN                               NaN   \n",
       "\n",
       "  image.medium  image.original _embedded.show.dvdCountry.name  \\\n",
       "0          NaN             NaN                            NaN   \n",
       "1          NaN             NaN                            NaN   \n",
       "2          NaN             NaN                            NaN   \n",
       "3          NaN             NaN                            NaN   \n",
       "4          NaN             NaN                            NaN   \n",
       "\n",
       "  _embedded.show.dvdCountry.code _embedded.show.dvdCountry.timezone  \\\n",
       "0                            NaN                                NaN   \n",
       "1                            NaN                                NaN   \n",
       "2                            NaN                                NaN   \n",
       "3                            NaN                                NaN   \n",
       "4                            NaN                                NaN   \n",
       "\n",
       "  _embedded.show.webChannel  \n",
       "0                       NaN  \n",
       "1                       NaN  \n",
       "2                       NaN  \n",
       "3                       NaN  \n",
       "4                       NaN  \n",
       "\n",
       "[5 rows x 62 columns]"
      ]
     },
     "execution_count": 15,
     "metadata": {},
     "output_type": "execute_result"
    }
   ],
   "source": [
    "df_episodes.head()"
   ]
  },
  {
   "cell_type": "code",
   "execution_count": 16,
   "id": "909d8231",
   "metadata": {},
   "outputs": [
    {
     "data": {
      "text/plain": [
       "pandas.core.frame.DataFrame"
      ]
     },
     "execution_count": 16,
     "metadata": {},
     "output_type": "execute_result"
    }
   ],
   "source": [
    "type(df_episodes)"
   ]
  },
  {
   "cell_type": "code",
   "execution_count": 17,
   "id": "296a64a8",
   "metadata": {},
   "outputs": [
    {
     "name": "stdout",
     "output_type": "stream",
     "text": [
      "id\n",
      "url\n",
      "name\n",
      "season\n",
      "number\n",
      "type\n",
      "airdate\n",
      "airtime\n",
      "airstamp\n",
      "runtime\n",
      "image\n",
      "summary\n",
      "rating.average\n",
      "_links.self.href\n",
      "_links.show.href\n",
      "_embedded.show.id\n",
      "_embedded.show.url\n",
      "_embedded.show.name\n",
      "_embedded.show.type\n",
      "_embedded.show.language\n",
      "_embedded.show.genres\n",
      "_embedded.show.status\n",
      "_embedded.show.runtime\n",
      "_embedded.show.averageRuntime\n",
      "_embedded.show.premiered\n",
      "_embedded.show.ended\n",
      "_embedded.show.officialSite\n",
      "_embedded.show.schedule.time\n",
      "_embedded.show.schedule.days\n",
      "_embedded.show.rating.average\n",
      "_embedded.show.weight\n",
      "_embedded.show.network\n",
      "_embedded.show.webChannel.id\n",
      "_embedded.show.webChannel.name\n",
      "_embedded.show.webChannel.country.name\n",
      "_embedded.show.webChannel.country.code\n",
      "_embedded.show.webChannel.country.timezone\n",
      "_embedded.show.webChannel.officialSite\n",
      "_embedded.show.dvdCountry\n",
      "_embedded.show.externals.tvrage\n",
      "_embedded.show.externals.thetvdb\n",
      "_embedded.show.externals.imdb\n",
      "_embedded.show.image.medium\n",
      "_embedded.show.image.original\n",
      "_embedded.show.summary\n",
      "_embedded.show.updated\n",
      "_embedded.show._links.self.href\n",
      "_embedded.show._links.previousepisode.href\n",
      "_embedded.show._links.nextepisode.href\n",
      "_embedded.show.network.id\n",
      "_embedded.show.network.name\n",
      "_embedded.show.network.country.name\n",
      "_embedded.show.network.country.code\n",
      "_embedded.show.network.country.timezone\n",
      "_embedded.show.network.officialSite\n",
      "_embedded.show.webChannel.country\n",
      "image.medium\n",
      "image.original\n",
      "_embedded.show.dvdCountry.name\n",
      "_embedded.show.dvdCountry.code\n",
      "_embedded.show.dvdCountry.timezone\n",
      "_embedded.show.webChannel\n"
     ]
    }
   ],
   "source": [
    " for column in df_episodes:\n",
    "...   print(column)"
   ]
  },
  {
   "cell_type": "code",
   "execution_count": 98,
   "id": "fa185a96",
   "metadata": {},
   "outputs": [],
   "source": [
    "## Extraccion del DataFrame 1 de acuerdo a los datos del primer nivel del JSON, datos requeridos para calculo de runtime promedio\n",
    "\n",
    "df_series = pd.DataFrame(df_episodes, columns = ['id', 'url','name','season','number','type','image'])"
   ]
  },
  {
   "cell_type": "code",
   "execution_count": 99,
   "id": "5296d772",
   "metadata": {},
   "outputs": [
    {
     "name": "stdout",
     "output_type": "stream",
     "text": [
      "         id                                                url           name  \\\n",
      "0   2604879  https://www.tvmaze.com/episodes/2604879/na-str...       Серия 13   \n",
      "1   2610181  https://www.tvmaze.com/episodes/2610181/zamaac...        Серия 3   \n",
      "2   2598421  https://www.tvmaze.com/episodes/2598421/posled...       Серия 03   \n",
      "3   2599349  https://www.tvmaze.com/episodes/2599349/61st-s...      The Offer   \n",
      "4   2561116  https://www.tvmaze.com/episodes/2561116/wu-she...    Episode 357   \n",
      "..      ...                                                ...            ...   \n",
      "86  2544464  https://www.tvmaze.com/episodes/2544464/wwe-nx...     Episode 32   \n",
      "87  2560157  https://www.tvmaze.com/episodes/2560157/forsta...      Avsnitt 9   \n",
      "88  2617225  https://www.tvmaze.com/episodes/2617225/no-lim...     Episódio 7   \n",
      "89  2599200  https://www.tvmaze.com/episodes/2599200/politi...  Brann i blokk   \n",
      "90  2612115  https://www.tvmaze.com/episodes/2612115/the-ul...     Episode 11   \n",
      "\n",
      "    season  number     type  image  \n",
      "0        2       5  regular    NaN  \n",
      "1        1       3  regular    NaN  \n",
      "2        1       3  regular    NaN  \n",
      "3        2       7  regular    NaN  \n",
      "4        1     357  regular    NaN  \n",
      "..     ...     ...      ...    ...  \n",
      "86      17      32  regular    NaN  \n",
      "87       7       9  regular    NaN  \n",
      "88       7       7  regular    NaN  \n",
      "89       1      23  regular    NaN  \n",
      "90      31      11  regular    NaN  \n",
      "\n",
      "[91 rows x 7 columns]\n"
     ]
    }
   ],
   "source": [
    "print(df_series)"
   ]
  },
  {
   "cell_type": "code",
   "execution_count": 144,
   "id": "d2956aae",
   "metadata": {},
   "outputs": [],
   "source": [
    "df_countries = pd.DataFrame(df_episodes, columns = ['_embedded.show.network.country.code','_embedded.show.network.country.name','_embedded.show.network.country.timezone'])"
   ]
  },
  {
   "cell_type": "code",
   "execution_count": 152,
   "id": "7e203a8a",
   "metadata": {},
   "outputs": [
    {
     "name": "stdout",
     "output_type": "stream",
     "text": [
      "  _embedded.show.network.country.code _embedded.show.network.country.name  \\\n",
      "0                                  BR                              Brazil   \n",
      "1                                  CN                               China   \n",
      "2                                  HK                           Hong Kong   \n",
      "3                                  KR                  Korea, Republic of   \n",
      "4                                  US                       United States   \n",
      "\n",
      "   _embedded.show.network.country.timezone  \n",
      "0                                        1  \n",
      "1                                        6  \n",
      "2                                        1  \n",
      "3                                        3  \n",
      "4                                        1  \n"
     ]
    }
   ],
   "source": [
    "df_countries = df_countries.groupby(['_embedded.show.network.country.code','_embedded.show.network.country.name']).agg({'_embedded.show.network.country.timezone': 'count'}).reset_index()\n",
    "print(df_countries)    "
   ]
  },
  {
   "cell_type": "code",
   "execution_count": 20,
   "id": "9bc55cd0",
   "metadata": {},
   "outputs": [],
   "source": [
    "## Extraccion de DataFrames de acuerdo a los datos del segundo nivel del JSON\n",
    "\n",
    "df_rating = pd.DataFrame(df_episodes, columns = ['id', 'rating.average'])"
   ]
  },
  {
   "cell_type": "code",
   "execution_count": 21,
   "id": "677cd8b1",
   "metadata": {},
   "outputs": [
    {
     "name": "stdout",
     "output_type": "stream",
     "text": [
      "         id  rating.average\n",
      "0   2604879             NaN\n",
      "1   2610181             NaN\n",
      "2   2598421             NaN\n",
      "3   2599349             NaN\n",
      "4   2561116             NaN\n",
      "..      ...             ...\n",
      "86  2544464             NaN\n",
      "87  2560157             NaN\n",
      "88  2617225             NaN\n",
      "89  2599200             NaN\n",
      "90  2612115             NaN\n",
      "\n",
      "[91 rows x 2 columns]\n"
     ]
    }
   ],
   "source": [
    "print(df_rating)"
   ]
  },
  {
   "cell_type": "code",
   "execution_count": 130,
   "id": "2a360794",
   "metadata": {},
   "outputs": [],
   "source": [
    "df_series_data = pd.DataFrame(df_episodes, columns = ['id','airdate','airtime','airstamp','runtime','_embedded.show.network.country.code'])"
   ]
  },
  {
   "cell_type": "code",
   "execution_count": 100,
   "id": "1798260b",
   "metadata": {},
   "outputs": [
    {
     "name": "stdout",
     "output_type": "stream",
     "text": [
      "         id     airdate airtime                   airstamp  runtime  \\\n",
      "0   2604879  2023-08-08          2023-08-08T00:00:00+00:00      NaN   \n",
      "1   2610181  2023-08-08          2023-08-08T00:00:00+00:00      NaN   \n",
      "2   2598421  2023-08-08          2023-08-08T00:00:00+00:00      NaN   \n",
      "3   2599349  2023-08-08          2023-08-08T02:00:00+00:00      NaN   \n",
      "4   2561116  2023-08-08   10:00  2023-08-08T02:00:00+00:00      5.0   \n",
      "..      ...         ...     ...                        ...      ...   \n",
      "86  2544464  2023-08-08   20:00  2023-08-09T00:00:00+00:00    120.0   \n",
      "87  2560157  2023-08-08   02:00  2023-08-09T00:00:00+00:00     30.0   \n",
      "88  2617225  2023-08-08   22:30  2023-08-09T00:30:00+00:00     90.0   \n",
      "89  2599200  2023-08-08   03:00  2023-08-09T01:00:00+00:00     25.0   \n",
      "90  2612115  2023-08-08   22:00  2023-08-09T02:00:00+00:00     60.0   \n",
      "\n",
      "   _embedded.show.network.country.code  \n",
      "0                                  NaN  \n",
      "1                                  NaN  \n",
      "2                                  NaN  \n",
      "3                                  NaN  \n",
      "4                                  NaN  \n",
      "..                                 ...  \n",
      "86                                  US  \n",
      "87                                 NaN  \n",
      "88                                  BR  \n",
      "89                                 NaN  \n",
      "90                                 NaN  \n",
      "\n",
      "[91 rows x 6 columns]\n"
     ]
    }
   ],
   "source": [
    "print(df_series_data)"
   ]
  },
  {
   "cell_type": "code",
   "execution_count": 22,
   "id": "8556a2f4",
   "metadata": {},
   "outputs": [],
   "source": [
    "df_links = pd.DataFrame(df_episodes, columns = ['id', '_links.self.href','_links.show.href'])"
   ]
  },
  {
   "cell_type": "code",
   "execution_count": 23,
   "id": "2032d8d4",
   "metadata": {},
   "outputs": [
    {
     "name": "stdout",
     "output_type": "stream",
     "text": [
      "         id                         _links.self.href  \\\n",
      "0   2604879  https://api.tvmaze.com/episodes/2604879   \n",
      "1   2610181  https://api.tvmaze.com/episodes/2610181   \n",
      "2   2598421  https://api.tvmaze.com/episodes/2598421   \n",
      "3   2599349  https://api.tvmaze.com/episodes/2599349   \n",
      "4   2561116  https://api.tvmaze.com/episodes/2561116   \n",
      "..      ...                                      ...   \n",
      "86  2544464  https://api.tvmaze.com/episodes/2544464   \n",
      "87  2560157  https://api.tvmaze.com/episodes/2560157   \n",
      "88  2617225  https://api.tvmaze.com/episodes/2617225   \n",
      "89  2599200  https://api.tvmaze.com/episodes/2599200   \n",
      "90  2612115  https://api.tvmaze.com/episodes/2612115   \n",
      "\n",
      "                      _links.show.href  \n",
      "0   https://api.tvmaze.com/shows/63169  \n",
      "1   https://api.tvmaze.com/shows/69820  \n",
      "2   https://api.tvmaze.com/shows/69937  \n",
      "3   https://api.tvmaze.com/shows/40916  \n",
      "4   https://api.tvmaze.com/shows/54033  \n",
      "..                                 ...  \n",
      "86   https://api.tvmaze.com/shows/2266  \n",
      "87  https://api.tvmaze.com/shows/33200  \n",
      "88  https://api.tvmaze.com/shows/55227  \n",
      "89  https://api.tvmaze.com/shows/69940  \n",
      "90    https://api.tvmaze.com/shows/922  \n",
      "\n",
      "[91 rows x 3 columns]\n"
     ]
    }
   ],
   "source": [
    "print(df_links)"
   ]
  },
  {
   "cell_type": "code",
   "execution_count": 69,
   "id": "f78670ba",
   "metadata": {},
   "outputs": [],
   "source": [
    "## Extraccion del DataFrame de acuerdo a JSON, datos requeridos para extraccion de URL para listar dominios WEB\n",
    "df_embedded = pd.DataFrame(df_episodes, columns = ['id', '_embedded.show.id','_embedded.show.url','_embedded.show.name','_embedded.show.type','_embedded.show.language','_embedded.show.status','_embedded.show.runtime','_embedded.show.averageRuntime','_embedded.show.officialSite'])"
   ]
  },
  {
   "cell_type": "code",
   "execution_count": 70,
   "id": "4760d721",
   "metadata": {},
   "outputs": [
    {
     "name": "stdout",
     "output_type": "stream",
     "text": [
      "         id  _embedded.show.id  \\\n",
      "0   2604879              63169   \n",
      "1   2610181              69820   \n",
      "2   2598421              69937   \n",
      "3   2599349              40916   \n",
      "4   2561116              54033   \n",
      "..      ...                ...   \n",
      "86  2544464               2266   \n",
      "87  2560157              33200   \n",
      "88  2617225              55227   \n",
      "89  2599200              69940   \n",
      "90  2612115                922   \n",
      "\n",
      "                                   _embedded.show.url   _embedded.show.name  \\\n",
      "0   https://www.tvmaze.com/shows/63169/na-straze-p...       На страже пляжа   \n",
      "1        https://www.tvmaze.com/shows/69820/zamaacnyj             Замаячный   \n",
      "2    https://www.tvmaze.com/shows/69937/posledovateli         Последователи   \n",
      "3      https://www.tvmaze.com/shows/40916/61st-street           61st Street   \n",
      "4   https://www.tvmaze.com/shows/54033/wu-shen-zhu...       Wu Shen Zhu Zai   \n",
      "..                                                ...                   ...   \n",
      "86          https://www.tvmaze.com/shows/2266/wwe-nxt               WWE NXT   \n",
      "87   https://www.tvmaze.com/shows/33200/forsta-dejten         Första Dejten   \n",
      "88       https://www.tvmaze.com/shows/55227/no-limite             No Limite   \n",
      "89          https://www.tvmaze.com/shows/69940/politi                Politi   \n",
      "90  https://www.tvmaze.com/shows/922/the-ultimate-...  The Ultimate Fighter   \n",
      "\n",
      "   _embedded.show.type _embedded.show.language _embedded.show.status  \\\n",
      "0             Scripted                 Russian               Running   \n",
      "1             Scripted                    None               Running   \n",
      "2             Scripted                 Russian               Running   \n",
      "3             Scripted                 English               Running   \n",
      "4            Animation                 Chinese               Running   \n",
      "..                 ...                     ...                   ...   \n",
      "86              Sports                 English               Running   \n",
      "87             Reality                 Swedish               Running   \n",
      "88             Reality              Portuguese               Running   \n",
      "89         Documentary               Norwegian               Running   \n",
      "90             Reality                 English               Running   \n",
      "\n",
      "    _embedded.show.runtime  _embedded.show.averageRuntime  \\\n",
      "0                      NaN                           45.0   \n",
      "1                      NaN                            NaN   \n",
      "2                      NaN                            NaN   \n",
      "3                      NaN                           54.0   \n",
      "4                      5.0                            7.0   \n",
      "..                     ...                            ...   \n",
      "86                   120.0                           81.0   \n",
      "87                     NaN                           30.0   \n",
      "88                    90.0                           90.0   \n",
      "89                    25.0                           25.0   \n",
      "90                    60.0                           60.0   \n",
      "\n",
      "                          _embedded.show.officialSite  \n",
      "0         https://premier.one/show/na-strazhe-plyazha  \n",
      "1                                                None  \n",
      "2             https://premier.one/show/posledovateli/  \n",
      "3   https://www.stan.com.au/watch/61st-street/seas...  \n",
      "4       https://v.qq.com/x/cover/7q544xyrava3vxf.html  \n",
      "..                                                ...  \n",
      "86          http://www.wwe.com/inside/networkschedule  \n",
      "87               https://www.svtplay.se/forsta-dejten  \n",
      "88       https://gshow.globo.com/realities/no-limite/  \n",
      "89        https://play.tv2.no/programmer/fakta/politi  \n",
      "90                                https://ufc.com/tuf  \n",
      "\n",
      "[91 rows x 10 columns]\n"
     ]
    }
   ],
   "source": [
    "print(df_embedded)"
   ]
  },
  {
   "cell_type": "code",
   "execution_count": 104,
   "id": "0eac4bec",
   "metadata": {},
   "outputs": [],
   "source": [
    "## Extraccion del DataFrame de acuerdo a los datos genero para conteo de shows por genero\n",
    "\n",
    "df_show_genres = pd.DataFrame(df_episodes, columns = ['id', '_embedded.show.genres'])"
   ]
  },
  {
   "cell_type": "code",
   "execution_count": 105,
   "id": "43bc550b",
   "metadata": {},
   "outputs": [
    {
     "name": "stdout",
     "output_type": "stream",
     "text": [
      "         id                _embedded.show.genres\n",
      "0   2604879                      [Comedy, Crime]\n",
      "1   2610181           [Drama, Thriller, Mystery]\n",
      "2   2598421                    [Drama, Thriller]\n",
      "3   2599349                [Drama, Crime, Legal]\n",
      "4   2561116  [Action, Adventure, Anime, Fantasy]\n",
      "..      ...                                  ...\n",
      "86  2544464                                   []\n",
      "87  2560157                            [Romance]\n",
      "88  2617225                                   []\n",
      "89  2599200                                   []\n",
      "90  2612115              [Drama, Action, Sports]\n",
      "\n",
      "[91 rows x 2 columns]\n"
     ]
    }
   ],
   "source": [
    "print(df_show_genres)"
   ]
  },
  {
   "cell_type": "code",
   "execution_count": 106,
   "id": "da8b95df",
   "metadata": {},
   "outputs": [
    {
     "name": "stdout",
     "output_type": "stream",
     "text": [
      "         id  genre_1    genre_2  genre_3  genre_4\n",
      "0   2604879   Comedy      Crime     None     None\n",
      "1   2610181    Drama   Thriller  Mystery     None\n",
      "2   2598421    Drama   Thriller     None     None\n",
      "3   2599349    Drama      Crime    Legal     None\n",
      "4   2561116   Action  Adventure    Anime  Fantasy\n",
      "..      ...      ...        ...      ...      ...\n",
      "86  2544464     None       None     None     None\n",
      "87  2560157  Romance       None     None     None\n",
      "88  2617225     None       None     None     None\n",
      "89  2599200     None       None     None     None\n",
      "90  2612115    Drama     Action   Sports     None\n",
      "\n",
      "[91 rows x 5 columns]\n"
     ]
    }
   ],
   "source": [
    "def expand_genres(df_show_genres):\n",
    "    genres_df = pd.DataFrame(df_show_genres['_embedded.show.genres'].tolist(), columns=[f'genre_{i+1}' for i in range(df_show_genres['_embedded.show.genres'].apply(len).max())])\n",
    "    result_df = pd.concat([df_show_genres['id'], genres_df], axis=1)\n",
    "    return result_df\n",
    "\n",
    "df_show_genres_exp = expand_genres(df_show_genres)\n",
    "print (df_show_genres_exp)"
   ]
  },
  {
   "cell_type": "code",
   "execution_count": 102,
   "id": "241845d1",
   "metadata": {},
   "outputs": [
    {
     "name": "stdout",
     "output_type": "stream",
     "text": [
      "<class 'pandas.core.frame.DataFrame'>\n",
      "RangeIndex: 91 entries, 0 to 90\n",
      "Data columns (total 5 columns):\n",
      " #   Column   Non-Null Count  Dtype \n",
      "---  ------   --------------  ----- \n",
      " 0   id       91 non-null     int64 \n",
      " 1   genre_1  91 non-null     object\n",
      " 2   genre_2  56 non-null     object\n",
      " 3   genre_3  33 non-null     object\n",
      " 4   genre_4  2 non-null      object\n",
      "dtypes: int64(1), object(4)\n",
      "memory usage: 3.7+ KB\n"
     ]
    }
   ],
   "source": [
    "df_show_genres_exp[\"genre_1\"] = df_show_genres_exp[\"genre_1\"].map({\"None\" : \"Unclassified\"}).astype(str)\n",
    "\n",
    "df_show_genres_exp.info()"
   ]
  },
  {
   "cell_type": "code",
   "execution_count": 103,
   "id": "740815c3",
   "metadata": {},
   "outputs": [
    {
     "name": "stdout",
     "output_type": "stream",
     "text": [
      "         id genre_1    genre_2  genre_3  genre_4\n",
      "0   2604879     nan      Crime     None     None\n",
      "1   2610181     nan   Thriller  Mystery     None\n",
      "2   2598421     nan   Thriller     None     None\n",
      "3   2599349     nan      Crime    Legal     None\n",
      "4   2561116     nan  Adventure    Anime  Fantasy\n",
      "..      ...     ...        ...      ...      ...\n",
      "86  2544464     nan       None     None     None\n",
      "87  2560157     nan       None     None     None\n",
      "88  2617225     nan       None     None     None\n",
      "89  2599200     nan       None     None     None\n",
      "90  2612115     nan     Action   Sports     None\n",
      "\n",
      "[91 rows x 5 columns]\n"
     ]
    }
   ],
   "source": [
    "print (df_show_genres_exp)"
   ]
  },
  {
   "cell_type": "code",
   "execution_count": 31,
   "id": "8895d6ae",
   "metadata": {},
   "outputs": [
    {
     "name": "stdout",
     "output_type": "stream",
     "text": [
      "<class 'pandas.core.frame.DataFrame'>\n",
      "RangeIndex: 91 entries, 0 to 90\n",
      "Data columns (total 11 columns):\n",
      " #   Column    Non-Null Count  Dtype  \n",
      "---  ------    --------------  -----  \n",
      " 0   id        91 non-null     int64  \n",
      " 1   url       91 non-null     object \n",
      " 2   name      91 non-null     object \n",
      " 3   season    91 non-null     int64  \n",
      " 4   number    91 non-null     int64  \n",
      " 5   type      91 non-null     object \n",
      " 6   airdate   91 non-null     object \n",
      " 7   airtime   91 non-null     object \n",
      " 8   airstamp  91 non-null     object \n",
      " 9   runtime   86 non-null     float64\n",
      " 10  image     0 non-null      float64\n",
      "dtypes: float64(2), int64(3), object(6)\n",
      "memory usage: 7.9+ KB\n"
     ]
    }
   ],
   "source": [
    "## Exploracion de datos \n",
    "\n",
    "df_series.info()"
   ]
  },
  {
   "cell_type": "code",
   "execution_count": 131,
   "id": "89a3b67b",
   "metadata": {},
   "outputs": [],
   "source": [
    "df_series_data[\"runtime\"] = df_series_data[\"runtime\"].fillna(0.0)"
   ]
  },
  {
   "cell_type": "code",
   "execution_count": 126,
   "id": "6a5a972f",
   "metadata": {},
   "outputs": [
    {
     "data": {
      "text/plain": [
       "id                                        int64\n",
       "airdate                                  object\n",
       "airtime                                  object\n",
       "airstamp                                 object\n",
       "runtime                                 float64\n",
       "_embedded.show.network.country.code      object\n",
       "_embedded.show.network.country.code      object\n",
       "dtype: object"
      ]
     },
     "execution_count": 126,
     "metadata": {},
     "output_type": "execute_result"
    }
   ],
   "source": [
    "df_series_data.dtypes"
   ]
  },
  {
   "cell_type": "code",
   "execution_count": 133,
   "id": "1b94b5e4",
   "metadata": {},
   "outputs": [],
   "source": [
    "df_series_data[\"_embedded.show.network.country.code\"] = df_series_data[\"_embedded.show.network.country.code\"].fillna('NC')"
   ]
  },
  {
   "cell_type": "code",
   "execution_count": 134,
   "id": "4b084cfb",
   "metadata": {},
   "outputs": [
    {
     "name": "stdout",
     "output_type": "stream",
     "text": [
      "         id     airdate airtime                   airstamp  runtime  \\\n",
      "0   2604879  2023-08-08          2023-08-08T00:00:00+00:00      0.0   \n",
      "1   2610181  2023-08-08          2023-08-08T00:00:00+00:00      0.0   \n",
      "2   2598421  2023-08-08          2023-08-08T00:00:00+00:00      0.0   \n",
      "3   2599349  2023-08-08          2023-08-08T02:00:00+00:00      0.0   \n",
      "4   2561116  2023-08-08   10:00  2023-08-08T02:00:00+00:00      5.0   \n",
      "..      ...         ...     ...                        ...      ...   \n",
      "86  2544464  2023-08-08   20:00  2023-08-09T00:00:00+00:00    120.0   \n",
      "87  2560157  2023-08-08   02:00  2023-08-09T00:00:00+00:00     30.0   \n",
      "88  2617225  2023-08-08   22:30  2023-08-09T00:30:00+00:00     90.0   \n",
      "89  2599200  2023-08-08   03:00  2023-08-09T01:00:00+00:00     25.0   \n",
      "90  2612115  2023-08-08   22:00  2023-08-09T02:00:00+00:00     60.0   \n",
      "\n",
      "   _embedded.show.network.country.code  \n",
      "0                                   NC  \n",
      "1                                   NC  \n",
      "2                                   NC  \n",
      "3                                   NC  \n",
      "4                                   NC  \n",
      "..                                 ...  \n",
      "86                                  US  \n",
      "87                                  NC  \n",
      "88                                  BR  \n",
      "89                                  NC  \n",
      "90                                  NC  \n",
      "\n",
      "[91 rows x 6 columns]\n"
     ]
    }
   ],
   "source": [
    "print(df_series_data)"
   ]
  },
  {
   "cell_type": "code",
   "execution_count": 34,
   "id": "07d8bfe9",
   "metadata": {},
   "outputs": [
    {
     "name": "stdout",
     "output_type": "stream",
     "text": [
      "<class 'pandas.core.frame.DataFrame'>\n",
      "RangeIndex: 91 entries, 0 to 90\n",
      "Data columns (total 2 columns):\n",
      " #   Column          Non-Null Count  Dtype  \n",
      "---  ------          --------------  -----  \n",
      " 0   id              91 non-null     int64  \n",
      " 1   rating.average  2 non-null      float64\n",
      "dtypes: float64(1), int64(1)\n",
      "memory usage: 1.5 KB\n"
     ]
    }
   ],
   "source": [
    "df_rating.info()"
   ]
  },
  {
   "cell_type": "code",
   "execution_count": 35,
   "id": "e055cc23",
   "metadata": {},
   "outputs": [],
   "source": [
    "df_rating[\"rating.average\"] = df_rating[\"rating.average\"].fillna(0.0)"
   ]
  },
  {
   "cell_type": "code",
   "execution_count": 36,
   "id": "60580c36",
   "metadata": {},
   "outputs": [
    {
     "name": "stdout",
     "output_type": "stream",
     "text": [
      "<class 'pandas.core.frame.DataFrame'>\n",
      "RangeIndex: 91 entries, 0 to 90\n",
      "Data columns (total 3 columns):\n",
      " #   Column            Non-Null Count  Dtype \n",
      "---  ------            --------------  ----- \n",
      " 0   id                91 non-null     int64 \n",
      " 1   _links.self.href  91 non-null     object\n",
      " 2   _links.show.href  91 non-null     object\n",
      "dtypes: int64(1), object(2)\n",
      "memory usage: 2.3+ KB\n"
     ]
    }
   ],
   "source": [
    "df_links.info()"
   ]
  },
  {
   "cell_type": "code",
   "execution_count": 64,
   "id": "894dbd44",
   "metadata": {},
   "outputs": [
    {
     "name": "stdout",
     "output_type": "stream",
     "text": [
      "<class 'pandas.core.frame.DataFrame'>\n",
      "RangeIndex: 91 entries, 0 to 90\n",
      "Data columns (total 10 columns):\n",
      " #   Column                         Non-Null Count  Dtype  \n",
      "---  ------                         --------------  -----  \n",
      " 0   id                             91 non-null     int64  \n",
      " 1   _embedded.show.id              91 non-null     int64  \n",
      " 2   _embedded.show.url             91 non-null     object \n",
      " 3   _embedded.show.name            91 non-null     object \n",
      " 4   _embedded.show.type            91 non-null     object \n",
      " 5   _embedded.show.language        91 non-null     object \n",
      " 6   _embedded.show.status          91 non-null     object \n",
      " 7   _embedded.show.runtime         91 non-null     float64\n",
      " 8   _embedded.show.averageRuntime  91 non-null     float64\n",
      " 9   _embedded.show.officialSite    91 non-null     object \n",
      "dtypes: float64(2), int64(2), object(6)\n",
      "memory usage: 7.2+ KB\n"
     ]
    }
   ],
   "source": [
    "df_embedded.info()"
   ]
  },
  {
   "cell_type": "code",
   "execution_count": 74,
   "id": "235633bc",
   "metadata": {},
   "outputs": [
    {
     "data": {
      "text/plain": [
       "https://v.qq.com/x/cover/mzc00200woymt0h.html                                                                                                                                          12\n",
       "https://www.paramountplus.com/shows/never-seen-again/                                                                                                                                  10\n",
       "https://www.netflix.com/title/81635888                                                                                                                                                  8\n",
       "https://www.hulu.com/series/only-murders-in-the-building                                                                                                                                2\n",
       "https://v.qq.com/x/cover/mzc00200yoc6bg5.html                                                                                                                                           2\n",
       "https://v.qq.com/x/cover/mzc00200qt8jv46.html                                                                                                                                           2\n",
       "https://v.qq.com/x/cover/mzc00200u1m5rda.html                                                                                                                                           2\n",
       "https://v.qq.com/x/cover/mzc00200cuekhen.html                                                                                                                                           2\n",
       "https://v.qq.com/x/cover/mzc00200wy20w1u.html                                                                                                                                           2\n",
       "https://v.qq.com/x/cover/mzc002003rpvd4j.html                                                                                                                                           2\n",
       "https://w.mgtv.com/b/567965/19489010.html?fpa=se&lastp=so_result                                                                                                                        2\n",
       "https://v.youku.com/v_nextstage/id_fbbf9377c1e54043aef2.html?spm=a2h0c.8166622.PhoneSokuProgram_1.dtitle                                                                                2\n",
       "https://v.youku.tv/v_show/id_XNTk1OTQ0NTk0OA==.html?spm=a2hja.14919748_WEBHOME_JINGXUAN.drawer7.d_zj1_4&s=aafdb2ce8af6468fb489&scm=20140719.manual.37534.show_aafdb2ce8af6468fb489      2\n",
       "https://www.iq.com/album/mysterious-lotus-casebook-2023-hg4cefqzed?lang=en_us                                                                                                           2\n",
       "https://www.youtube.com/@JPTentertain                                                                                                                                                   1\n",
       "https://v.qq.com/x/search/?q=%E5%A0%95%E7%8E%84%E5%B8%88&stag=0&smartbox_ab=                                                                                                            1\n",
       "https://start.ru/watch/dva-holma                                                                                                                                                        1\n",
       "https://www.peacocktv.com/stream-tv/days-of-our-lives                                                                                                                                   1\n",
       "https://program.kbs.co.kr/2tv/drama/heartbeat/pc/index.html                                                                                                                             1\n",
       "https://premier.one/show/lab-laboratoriya-muzyki-antona-belyaeva                                                                                                                        1\n",
       "https://www.peacocktv.com/stream-tv/love-island                                                                                                                                         1\n",
       "http://www.wwe.com/inside/networkschedule                                                                                                                                               1\n",
       "https://www.svtplay.se/forsta-dejten                                                                                                                                                    1\n",
       "https://gshow.globo.com/realities/no-limite/                                                                                                                                            1\n",
       "https://play.tv2.no/programmer/fakta/politi                                                                                                                                             1\n",
       "https://www.netflix.com/untoldcollection                                                                                                                                                1\n",
       "https://premier.one/show/na-strazhe-plyazha                                                                                                                                             1\n",
       "https://www.insideofyoupodcast.com/                                                                                                                                                     1\n",
       "https://v.qq.com/x/cover/mzc00200r1335x5.html                                                                                                                                           1\n",
       "https://www.stan.com.au/watch/61st-street/season-2                                                                                                                                      1\n",
       "https://v.qq.com/x/cover/7q544xyrava3vxf.html                                                                                                                                           1\n",
       "https://v.qq.com/x/cover/mzc00200cu8uq8c.html                                                                                                                                           1\n",
       "https://v.qq.com/x/cover/mzc00200wac6xnr.html                                                                                                                                           1\n",
       "https://v.qq.com/x/cover/mzc00200iba2opl.html                                                                                                                                           1\n",
       "https://v.qq.com/x/cover/mzc00200ixqhb52.html                                                                                                                                           1\n",
       "http://www.bbc.co.uk/programmes/b006m86d                                                                                                                                                1\n",
       "https://www.youtube.com/@podsaveamerica                                                                                                                                                 1\n",
       "http://www.njpw1972.com/                                                                                                                                                                1\n",
       "https://v.youku.tv/v_show/id_XNTk2Mjc5NDM2OA==.html?spm=a2hja.14919748_WEBHOME_JINGXUAN.drawer7.d_zj1_11&s=bbbc659d62db45b08873&scm=20140719.manual.37534.show_bbbc659d62db45b08873     1\n",
       "https://v.youku.com/v_show/id_XNTk1NDg4MzI2MA==.html?spm=a2hja.14919748_WEBTV_JINGXUAN.drawer5.d_zj1_8&s=caeef053aa4a4de6811e&scm=20140719.manual.23911.show_caeef053aa4a4de6811e       1\n",
       "https://program.kbs.co.kr/1tv/drama/appleofmyeye/pc/index.html                                                                                                                          1\n",
       "https://premier.one/show/posledovateli/                                                                                                                                                 1\n",
       "https://www.youtube.com/playlist?list=PL86F4D497FD3CACCE                                                                                                                                1\n",
       "https://ufc.com/tuf                                                                                                                                                                     1\n",
       "Name: _embedded.show.officialSite, dtype: int64"
      ]
     },
     "execution_count": 74,
     "metadata": {},
     "output_type": "execute_result"
    }
   ],
   "source": [
    "df_embedded[\"_embedded.show.officialSite\"].value_counts()"
   ]
  },
  {
   "cell_type": "code",
   "execution_count": 42,
   "id": "779db78e",
   "metadata": {},
   "outputs": [],
   "source": [
    "df_embedded[\"_embedded.show.runtime\"] = df_embedded[\"_embedded.show.runtime\"].fillna(0.0)"
   ]
  },
  {
   "cell_type": "code",
   "execution_count": 43,
   "id": "311dd562",
   "metadata": {},
   "outputs": [],
   "source": [
    "df_embedded[\"_embedded.show.averageRuntime\"] = df_embedded[\"_embedded.show.averageRuntime\"].fillna(0.0)\n"
   ]
  },
  {
   "cell_type": "code",
   "execution_count": 68,
   "id": "34c0702c",
   "metadata": {},
   "outputs": [
    {
     "data": {
      "text/html": [
       "<div>\n",
       "<style scoped>\n",
       "    .dataframe tbody tr th:only-of-type {\n",
       "        vertical-align: middle;\n",
       "    }\n",
       "\n",
       "    .dataframe tbody tr th {\n",
       "        vertical-align: top;\n",
       "    }\n",
       "\n",
       "    .dataframe thead th {\n",
       "        text-align: right;\n",
       "    }\n",
       "</style>\n",
       "<table border=\"1\" class=\"dataframe\">\n",
       "  <thead>\n",
       "    <tr style=\"text-align: right;\">\n",
       "      <th></th>\n",
       "      <th>id</th>\n",
       "      <th>_embedded.show.id</th>\n",
       "      <th>_embedded.show.url</th>\n",
       "      <th>_embedded.show.name</th>\n",
       "      <th>_embedded.show.type</th>\n",
       "      <th>_embedded.show.language</th>\n",
       "      <th>_embedded.show.status</th>\n",
       "      <th>_embedded.show.runtime</th>\n",
       "      <th>_embedded.show.averageRuntime</th>\n",
       "      <th>_embedded.show.officialSite</th>\n",
       "    </tr>\n",
       "  </thead>\n",
       "  <tbody>\n",
       "    <tr>\n",
       "      <th>0</th>\n",
       "      <td>2604879</td>\n",
       "      <td>63169</td>\n",
       "      <td>https://www.tvmaze.com/shows/63169/na-straze-p...</td>\n",
       "      <td>На страже пляжа</td>\n",
       "      <td>Scripted</td>\n",
       "      <td>nan</td>\n",
       "      <td>Running</td>\n",
       "      <td>0.0</td>\n",
       "      <td>45.0</td>\n",
       "      <td>nan</td>\n",
       "    </tr>\n",
       "    <tr>\n",
       "      <th>1</th>\n",
       "      <td>2610181</td>\n",
       "      <td>69820</td>\n",
       "      <td>https://www.tvmaze.com/shows/69820/zamaacnyj</td>\n",
       "      <td>Замаячный</td>\n",
       "      <td>Scripted</td>\n",
       "      <td>nan</td>\n",
       "      <td>Running</td>\n",
       "      <td>0.0</td>\n",
       "      <td>0.0</td>\n",
       "      <td>nan</td>\n",
       "    </tr>\n",
       "    <tr>\n",
       "      <th>2</th>\n",
       "      <td>2598421</td>\n",
       "      <td>69937</td>\n",
       "      <td>https://www.tvmaze.com/shows/69937/posledovateli</td>\n",
       "      <td>Последователи</td>\n",
       "      <td>Scripted</td>\n",
       "      <td>nan</td>\n",
       "      <td>Running</td>\n",
       "      <td>0.0</td>\n",
       "      <td>0.0</td>\n",
       "      <td>nan</td>\n",
       "    </tr>\n",
       "    <tr>\n",
       "      <th>3</th>\n",
       "      <td>2599349</td>\n",
       "      <td>40916</td>\n",
       "      <td>https://www.tvmaze.com/shows/40916/61st-street</td>\n",
       "      <td>61st Street</td>\n",
       "      <td>Scripted</td>\n",
       "      <td>nan</td>\n",
       "      <td>Running</td>\n",
       "      <td>0.0</td>\n",
       "      <td>54.0</td>\n",
       "      <td>nan</td>\n",
       "    </tr>\n",
       "    <tr>\n",
       "      <th>4</th>\n",
       "      <td>2561116</td>\n",
       "      <td>54033</td>\n",
       "      <td>https://www.tvmaze.com/shows/54033/wu-shen-zhu...</td>\n",
       "      <td>Wu Shen Zhu Zai</td>\n",
       "      <td>Animation</td>\n",
       "      <td>nan</td>\n",
       "      <td>Running</td>\n",
       "      <td>5.0</td>\n",
       "      <td>7.0</td>\n",
       "      <td>nan</td>\n",
       "    </tr>\n",
       "    <tr>\n",
       "      <th>...</th>\n",
       "      <td>...</td>\n",
       "      <td>...</td>\n",
       "      <td>...</td>\n",
       "      <td>...</td>\n",
       "      <td>...</td>\n",
       "      <td>...</td>\n",
       "      <td>...</td>\n",
       "      <td>...</td>\n",
       "      <td>...</td>\n",
       "      <td>...</td>\n",
       "    </tr>\n",
       "    <tr>\n",
       "      <th>86</th>\n",
       "      <td>2544464</td>\n",
       "      <td>2266</td>\n",
       "      <td>https://www.tvmaze.com/shows/2266/wwe-nxt</td>\n",
       "      <td>WWE NXT</td>\n",
       "      <td>Sports</td>\n",
       "      <td>nan</td>\n",
       "      <td>Running</td>\n",
       "      <td>120.0</td>\n",
       "      <td>81.0</td>\n",
       "      <td>nan</td>\n",
       "    </tr>\n",
       "    <tr>\n",
       "      <th>87</th>\n",
       "      <td>2560157</td>\n",
       "      <td>33200</td>\n",
       "      <td>https://www.tvmaze.com/shows/33200/forsta-dejten</td>\n",
       "      <td>Första Dejten</td>\n",
       "      <td>Reality</td>\n",
       "      <td>nan</td>\n",
       "      <td>Running</td>\n",
       "      <td>0.0</td>\n",
       "      <td>30.0</td>\n",
       "      <td>nan</td>\n",
       "    </tr>\n",
       "    <tr>\n",
       "      <th>88</th>\n",
       "      <td>2617225</td>\n",
       "      <td>55227</td>\n",
       "      <td>https://www.tvmaze.com/shows/55227/no-limite</td>\n",
       "      <td>No Limite</td>\n",
       "      <td>Reality</td>\n",
       "      <td>nan</td>\n",
       "      <td>Running</td>\n",
       "      <td>90.0</td>\n",
       "      <td>90.0</td>\n",
       "      <td>nan</td>\n",
       "    </tr>\n",
       "    <tr>\n",
       "      <th>89</th>\n",
       "      <td>2599200</td>\n",
       "      <td>69940</td>\n",
       "      <td>https://www.tvmaze.com/shows/69940/politi</td>\n",
       "      <td>Politi</td>\n",
       "      <td>Documentary</td>\n",
       "      <td>nan</td>\n",
       "      <td>Running</td>\n",
       "      <td>25.0</td>\n",
       "      <td>25.0</td>\n",
       "      <td>nan</td>\n",
       "    </tr>\n",
       "    <tr>\n",
       "      <th>90</th>\n",
       "      <td>2612115</td>\n",
       "      <td>922</td>\n",
       "      <td>https://www.tvmaze.com/shows/922/the-ultimate-...</td>\n",
       "      <td>The Ultimate Fighter</td>\n",
       "      <td>Reality</td>\n",
       "      <td>nan</td>\n",
       "      <td>Running</td>\n",
       "      <td>60.0</td>\n",
       "      <td>60.0</td>\n",
       "      <td>nan</td>\n",
       "    </tr>\n",
       "  </tbody>\n",
       "</table>\n",
       "<p>91 rows × 10 columns</p>\n",
       "</div>"
      ],
      "text/plain": [
       "         id  _embedded.show.id  \\\n",
       "0   2604879              63169   \n",
       "1   2610181              69820   \n",
       "2   2598421              69937   \n",
       "3   2599349              40916   \n",
       "4   2561116              54033   \n",
       "..      ...                ...   \n",
       "86  2544464               2266   \n",
       "87  2560157              33200   \n",
       "88  2617225              55227   \n",
       "89  2599200              69940   \n",
       "90  2612115                922   \n",
       "\n",
       "                                   _embedded.show.url   _embedded.show.name  \\\n",
       "0   https://www.tvmaze.com/shows/63169/na-straze-p...       На страже пляжа   \n",
       "1        https://www.tvmaze.com/shows/69820/zamaacnyj             Замаячный   \n",
       "2    https://www.tvmaze.com/shows/69937/posledovateli         Последователи   \n",
       "3      https://www.tvmaze.com/shows/40916/61st-street           61st Street   \n",
       "4   https://www.tvmaze.com/shows/54033/wu-shen-zhu...       Wu Shen Zhu Zai   \n",
       "..                                                ...                   ...   \n",
       "86          https://www.tvmaze.com/shows/2266/wwe-nxt               WWE NXT   \n",
       "87   https://www.tvmaze.com/shows/33200/forsta-dejten         Första Dejten   \n",
       "88       https://www.tvmaze.com/shows/55227/no-limite             No Limite   \n",
       "89          https://www.tvmaze.com/shows/69940/politi                Politi   \n",
       "90  https://www.tvmaze.com/shows/922/the-ultimate-...  The Ultimate Fighter   \n",
       "\n",
       "   _embedded.show.type _embedded.show.language _embedded.show.status  \\\n",
       "0             Scripted                     nan               Running   \n",
       "1             Scripted                     nan               Running   \n",
       "2             Scripted                     nan               Running   \n",
       "3             Scripted                     nan               Running   \n",
       "4            Animation                     nan               Running   \n",
       "..                 ...                     ...                   ...   \n",
       "86              Sports                     nan               Running   \n",
       "87             Reality                     nan               Running   \n",
       "88             Reality                     nan               Running   \n",
       "89         Documentary                     nan               Running   \n",
       "90             Reality                     nan               Running   \n",
       "\n",
       "    _embedded.show.runtime  _embedded.show.averageRuntime  \\\n",
       "0                      0.0                           45.0   \n",
       "1                      0.0                            0.0   \n",
       "2                      0.0                            0.0   \n",
       "3                      0.0                           54.0   \n",
       "4                      5.0                            7.0   \n",
       "..                     ...                            ...   \n",
       "86                   120.0                           81.0   \n",
       "87                     0.0                           30.0   \n",
       "88                    90.0                           90.0   \n",
       "89                    25.0                           25.0   \n",
       "90                    60.0                           60.0   \n",
       "\n",
       "   _embedded.show.officialSite  \n",
       "0                          nan  \n",
       "1                          nan  \n",
       "2                          nan  \n",
       "3                          nan  \n",
       "4                          nan  \n",
       "..                         ...  \n",
       "86                         nan  \n",
       "87                         nan  \n",
       "88                         nan  \n",
       "89                         nan  \n",
       "90                         nan  \n",
       "\n",
       "[91 rows x 10 columns]"
      ]
     },
     "execution_count": 68,
     "metadata": {},
     "output_type": "execute_result"
    }
   ],
   "source": [
    "df_embedded.head(100)"
   ]
  },
  {
   "cell_type": "code",
   "execution_count": 50,
   "id": "fc304667",
   "metadata": {},
   "outputs": [
    {
     "data": {
      "text/plain": [
       "nan    91\n",
       "Name: genre_1, dtype: int64"
      ]
     },
     "execution_count": 50,
     "metadata": {},
     "output_type": "execute_result"
    }
   ],
   "source": [
    "df_show_genres_exp['genre_1'].value_counts()"
   ]
  },
  {
   "cell_type": "code",
   "execution_count": 51,
   "id": "8f5de7ee",
   "metadata": {},
   "outputs": [
    {
     "data": {
      "text/plain": [
       "Fantasy            19\n",
       "Horror              8\n",
       "Crime               7\n",
       "Romance             7\n",
       "Science-Fiction     4\n",
       "Thriller            2\n",
       "Adventure           2\n",
       "Comedy              2\n",
       "Family              2\n",
       "Anime               1\n",
       "Mystery             1\n",
       "Action              1\n",
       "Name: genre_2, dtype: int64"
      ]
     },
     "execution_count": 51,
     "metadata": {},
     "output_type": "execute_result"
    }
   ],
   "source": [
    "df_show_genres_exp['genre_2'].value_counts()"
   ]
  },
  {
   "cell_type": "code",
   "execution_count": 159,
   "id": "aa23b4e4",
   "metadata": {},
   "outputs": [
    {
     "name": "stdout",
     "output_type": "stream",
     "text": [
      "         id                                                url           name  \\\n",
      "0   2604879  https://www.tvmaze.com/episodes/2604879/na-str...       Серия 13   \n",
      "1   2610181  https://www.tvmaze.com/episodes/2610181/zamaac...        Серия 3   \n",
      "2   2598421  https://www.tvmaze.com/episodes/2598421/posled...       Серия 03   \n",
      "3   2599349  https://www.tvmaze.com/episodes/2599349/61st-s...      The Offer   \n",
      "4   2561116  https://www.tvmaze.com/episodes/2561116/wu-she...    Episode 357   \n",
      "..      ...                                                ...            ...   \n",
      "86  2544464  https://www.tvmaze.com/episodes/2544464/wwe-nx...     Episode 32   \n",
      "87  2560157  https://www.tvmaze.com/episodes/2560157/forsta...      Avsnitt 9   \n",
      "88  2617225  https://www.tvmaze.com/episodes/2617225/no-lim...     Episódio 7   \n",
      "89  2599200  https://www.tvmaze.com/episodes/2599200/politi...  Brann i blokk   \n",
      "90  2612115  https://www.tvmaze.com/episodes/2612115/the-ul...     Episode 11   \n",
      "\n",
      "    season  number     type  image     airdate airtime  \\\n",
      "0        2       5  regular    NaN  2023-08-08           \n",
      "1        1       3  regular    NaN  2023-08-08           \n",
      "2        1       3  regular    NaN  2023-08-08           \n",
      "3        2       7  regular    NaN  2023-08-08           \n",
      "4        1     357  regular    NaN  2023-08-08   10:00   \n",
      "..     ...     ...      ...    ...         ...     ...   \n",
      "86      17      32  regular    NaN  2023-08-08   20:00   \n",
      "87       7       9  regular    NaN  2023-08-08   02:00   \n",
      "88       7       7  regular    NaN  2023-08-08   22:30   \n",
      "89       1      23  regular    NaN  2023-08-08   03:00   \n",
      "90      31      11  regular    NaN  2023-08-08   22:00   \n",
      "\n",
      "                     airstamp  runtime _embedded.show.network.country.code  \n",
      "0   2023-08-08T00:00:00+00:00      0.0                                  NC  \n",
      "1   2023-08-08T00:00:00+00:00      0.0                                  NC  \n",
      "2   2023-08-08T00:00:00+00:00      0.0                                  NC  \n",
      "3   2023-08-08T02:00:00+00:00      0.0                                  NC  \n",
      "4   2023-08-08T02:00:00+00:00      5.0                                  NC  \n",
      "..                        ...      ...                                 ...  \n",
      "86  2023-08-09T00:00:00+00:00    120.0                                  US  \n",
      "87  2023-08-09T00:00:00+00:00     30.0                                  NC  \n",
      "88  2023-08-09T00:30:00+00:00     90.0                                  BR  \n",
      "89  2023-08-09T01:00:00+00:00     25.0                                  NC  \n",
      "90  2023-08-09T02:00:00+00:00     60.0                                  NC  \n",
      "\n",
      "[91 rows x 12 columns]\n"
     ]
    }
   ],
   "source": [
    "df_series_gen = pd.merge(df_series, df_series_data, left_on=\"id\", right_on=\"id\", how=\"left\")\n",
    "print(df_series_gen)"
   ]
  },
  {
   "cell_type": "code",
   "execution_count": 160,
   "id": "1f0f219e",
   "metadata": {},
   "outputs": [
    {
     "name": "stdout",
     "output_type": "stream",
     "text": [
      "         id                                                url           name  \\\n",
      "0   2604879  https://www.tvmaze.com/episodes/2604879/na-str...       Серия 13   \n",
      "1   2610181  https://www.tvmaze.com/episodes/2610181/zamaac...        Серия 3   \n",
      "2   2598421  https://www.tvmaze.com/episodes/2598421/posled...       Серия 03   \n",
      "3   2599349  https://www.tvmaze.com/episodes/2599349/61st-s...      The Offer   \n",
      "4   2561116  https://www.tvmaze.com/episodes/2561116/wu-she...    Episode 357   \n",
      "..      ...                                                ...            ...   \n",
      "86  2544464  https://www.tvmaze.com/episodes/2544464/wwe-nx...     Episode 32   \n",
      "87  2560157  https://www.tvmaze.com/episodes/2560157/forsta...      Avsnitt 9   \n",
      "88  2617225  https://www.tvmaze.com/episodes/2617225/no-lim...     Episódio 7   \n",
      "89  2599200  https://www.tvmaze.com/episodes/2599200/politi...  Brann i blokk   \n",
      "90  2612115  https://www.tvmaze.com/episodes/2612115/the-ul...     Episode 11   \n",
      "\n",
      "    season  number     type  image     airdate airtime  \\\n",
      "0        2       5  regular    NaN  2023-08-08           \n",
      "1        1       3  regular    NaN  2023-08-08           \n",
      "2        1       3  regular    NaN  2023-08-08           \n",
      "3        2       7  regular    NaN  2023-08-08           \n",
      "4        1     357  regular    NaN  2023-08-08   10:00   \n",
      "..     ...     ...      ...    ...         ...     ...   \n",
      "86      17      32  regular    NaN  2023-08-08   20:00   \n",
      "87       7       9  regular    NaN  2023-08-08   02:00   \n",
      "88       7       7  regular    NaN  2023-08-08   22:30   \n",
      "89       1      23  regular    NaN  2023-08-08   03:00   \n",
      "90      31      11  regular    NaN  2023-08-08   22:00   \n",
      "\n",
      "                     airstamp  runtime _embedded.show.network.country.code  \\\n",
      "0   2023-08-08T00:00:00+00:00      0.0                                  NC   \n",
      "1   2023-08-08T00:00:00+00:00      0.0                                  NC   \n",
      "2   2023-08-08T00:00:00+00:00      0.0                                  NC   \n",
      "3   2023-08-08T02:00:00+00:00      0.0                                  NC   \n",
      "4   2023-08-08T02:00:00+00:00      5.0                                  NC   \n",
      "..                        ...      ...                                 ...   \n",
      "86  2023-08-09T00:00:00+00:00    120.0                                  US   \n",
      "87  2023-08-09T00:00:00+00:00     30.0                                  NC   \n",
      "88  2023-08-09T00:30:00+00:00     90.0                                  BR   \n",
      "89  2023-08-09T01:00:00+00:00     25.0                                  NC   \n",
      "90  2023-08-09T02:00:00+00:00     60.0                                  NC   \n",
      "\n",
      "    genre_1    genre_2  genre_3  genre_4  \n",
      "0    Comedy      Crime     None     None  \n",
      "1     Drama   Thriller  Mystery     None  \n",
      "2     Drama   Thriller     None     None  \n",
      "3     Drama      Crime    Legal     None  \n",
      "4    Action  Adventure    Anime  Fantasy  \n",
      "..      ...        ...      ...      ...  \n",
      "86     None       None     None     None  \n",
      "87  Romance       None     None     None  \n",
      "88     None       None     None     None  \n",
      "89     None       None     None     None  \n",
      "90    Drama     Action   Sports     None  \n",
      "\n",
      "[91 rows x 16 columns]\n"
     ]
    }
   ],
   "source": [
    "df_series_gen = pd.merge(df_series_gen, df_show_genres_exp, left_on=\"id\", right_on=\"id\", how=\"left\")\n",
    "print(df_series_gen)"
   ]
  },
  {
   "cell_type": "code",
   "execution_count": 161,
   "id": "67afd031",
   "metadata": {},
   "outputs": [
    {
     "name": "stdout",
     "output_type": "stream",
     "text": [
      "genre_1  genre_2        \n",
      "Action   Adventure           5.000000\n",
      "         Anime               8.000000\n",
      "Comedy   Crime              23.666667\n",
      "         Fantasy            35.000000\n",
      "         Horror             55.250000\n",
      "         Science-Fiction    23.000000\n",
      "Drama    Action             60.000000\n",
      "         Adventure          45.000000\n",
      "         Comedy              8.000000\n",
      "         Crime              37.500000\n",
      "Name: runtime, dtype: float64\n"
     ]
    },
    {
     "data": {
      "image/png": "[encoded data removed]",
      "text/plain": [
       "<Figure size 640x480 with 1 Axes>"
      ]
     },
     "metadata": {},
     "output_type": "display_data"
    }
   ],
   "source": [
    "grouped_ser_gen = df_series_gen.groupby(['genre_1','genre_2']).mean()['runtime']\n",
    "print(grouped_ser_gen[0:10])\n",
    "(grouped_ser_gen.unstack(level=0).plot.bar())\n",
    "plt.show()"
   ]
  },
  {
   "cell_type": "code",
   "execution_count": 162,
   "id": "f81a757b",
   "metadata": {},
   "outputs": [
    {
     "name": "stdout",
     "output_type": "stream",
     "text": [
      "         id  _embedded.show.id  \\\n",
      "0   2604879              63169   \n",
      "1   2610181              69820   \n",
      "2   2598421              69937   \n",
      "3   2599349              40916   \n",
      "4   2561116              54033   \n",
      "..      ...                ...   \n",
      "86  2544464               2266   \n",
      "87  2560157              33200   \n",
      "88  2617225              55227   \n",
      "89  2599200              69940   \n",
      "90  2612115                922   \n",
      "\n",
      "                                   _embedded.show.url   _embedded.show.name  \\\n",
      "0   https://www.tvmaze.com/shows/63169/na-straze-p...       На страже пляжа   \n",
      "1        https://www.tvmaze.com/shows/69820/zamaacnyj             Замаячный   \n",
      "2    https://www.tvmaze.com/shows/69937/posledovateli         Последователи   \n",
      "3      https://www.tvmaze.com/shows/40916/61st-street           61st Street   \n",
      "4   https://www.tvmaze.com/shows/54033/wu-shen-zhu...       Wu Shen Zhu Zai   \n",
      "..                                                ...                   ...   \n",
      "86          https://www.tvmaze.com/shows/2266/wwe-nxt               WWE NXT   \n",
      "87   https://www.tvmaze.com/shows/33200/forsta-dejten         Första Dejten   \n",
      "88       https://www.tvmaze.com/shows/55227/no-limite             No Limite   \n",
      "89          https://www.tvmaze.com/shows/69940/politi                Politi   \n",
      "90  https://www.tvmaze.com/shows/922/the-ultimate-...  The Ultimate Fighter   \n",
      "\n",
      "   _embedded.show.type _embedded.show.language _embedded.show.status  \\\n",
      "0             Scripted                 Russian               Running   \n",
      "1             Scripted                    None               Running   \n",
      "2             Scripted                 Russian               Running   \n",
      "3             Scripted                 English               Running   \n",
      "4            Animation                 Chinese               Running   \n",
      "..                 ...                     ...                   ...   \n",
      "86              Sports                 English               Running   \n",
      "87             Reality                 Swedish               Running   \n",
      "88             Reality              Portuguese               Running   \n",
      "89         Documentary               Norwegian               Running   \n",
      "90             Reality                 English               Running   \n",
      "\n",
      "    _embedded.show.runtime  _embedded.show.averageRuntime  \\\n",
      "0                      NaN                           45.0   \n",
      "1                      NaN                            NaN   \n",
      "2                      NaN                            NaN   \n",
      "3                      NaN                           54.0   \n",
      "4                      5.0                            7.0   \n",
      "..                     ...                            ...   \n",
      "86                   120.0                           81.0   \n",
      "87                     NaN                           30.0   \n",
      "88                    90.0                           90.0   \n",
      "89                    25.0                           25.0   \n",
      "90                    60.0                           60.0   \n",
      "\n",
      "                          _embedded.show.officialSite           domain  \n",
      "0         https://premier.one/show/na-strazhe-plyazha      premier.one  \n",
      "1                                                None             None  \n",
      "2             https://premier.one/show/posledovateli/      premier.one  \n",
      "3   https://www.stan.com.au/watch/61st-street/seas...  www.stan.com.au  \n",
      "4       https://v.qq.com/x/cover/7q544xyrava3vxf.html         v.qq.com  \n",
      "..                                                ...              ...  \n",
      "86          http://www.wwe.com/inside/networkschedule      www.wwe.com  \n",
      "87               https://www.svtplay.se/forsta-dejten   www.svtplay.se  \n",
      "88       https://gshow.globo.com/realities/no-limite/  gshow.globo.com  \n",
      "89        https://play.tv2.no/programmer/fakta/politi      play.tv2.no  \n",
      "90                                https://ufc.com/tuf          ufc.com  \n",
      "\n",
      "[91 rows x 11 columns]\n"
     ]
    }
   ],
   "source": [
    "def get_domain(url):\n",
    "    parsed_url = urlparse(url)\n",
    "    if parsed_url.netloc:\n",
    "        return parsed_url.netloc\n",
    "    else:\n",
    "        return None\n",
    "\n",
    "df_embedded['domain'] = df_embedded['_embedded.show.officialSite'].apply(get_domain)\n",
    "\n",
    "print(df_embedded)"
   ]
  },
  {
   "cell_type": "code",
   "execution_count": 180,
   "id": "972a3c9c",
   "metadata": {},
   "outputs": [
    {
     "data": {
      "text/plain": [
       "array(['premier.one', None, 'www.stan.com.au', 'v.qq.com', 'v.youku.com',\n",
       "       'w.mgtv.com', 'www.bbc.co.uk', 'www.njpw1972.com', 'v.youku.tv',\n",
       "       'program.kbs.co.kr', 'www.youtube.com',\n",
       "       'www.insideofyoupodcast.com', 'www.netflix.com', 'start.ru',\n",
       "       'www.paramountplus.com', 'www.iq.com', 'www.peacocktv.com',\n",
       "       'www.hulu.com', 'www.wwe.com', 'www.svtplay.se', 'gshow.globo.com',\n",
       "       'play.tv2.no', 'ufc.com'], dtype=object)"
      ]
     },
     "execution_count": 180,
     "metadata": {},
     "output_type": "execute_result"
    }
   ],
   "source": [
    "df_embedded['domain'].unique()"
   ]
  },
  {
   "cell_type": "code",
   "execution_count": 164,
   "id": "a65187c6",
   "metadata": {},
   "outputs": [
    {
     "name": "stdout",
     "output_type": "stream",
     "text": [
      "         id                                                url           name  \\\n",
      "0   2604879  https://www.tvmaze.com/episodes/2604879/na-str...       Серия 13   \n",
      "1   2610181  https://www.tvmaze.com/episodes/2610181/zamaac...        Серия 3   \n",
      "2   2598421  https://www.tvmaze.com/episodes/2598421/posled...       Серия 03   \n",
      "3   2599349  https://www.tvmaze.com/episodes/2599349/61st-s...      The Offer   \n",
      "4   2561116  https://www.tvmaze.com/episodes/2561116/wu-she...    Episode 357   \n",
      "..      ...                                                ...            ...   \n",
      "86  2544464  https://www.tvmaze.com/episodes/2544464/wwe-nx...     Episode 32   \n",
      "87  2560157  https://www.tvmaze.com/episodes/2560157/forsta...      Avsnitt 9   \n",
      "88  2617225  https://www.tvmaze.com/episodes/2617225/no-lim...     Episódio 7   \n",
      "89  2599200  https://www.tvmaze.com/episodes/2599200/politi...  Brann i blokk   \n",
      "90  2612115  https://www.tvmaze.com/episodes/2612115/the-ul...     Episode 11   \n",
      "\n",
      "    season  number     type  image     airdate airtime  \\\n",
      "0        2       5  regular    NaN  2023-08-08           \n",
      "1        1       3  regular    NaN  2023-08-08           \n",
      "2        1       3  regular    NaN  2023-08-08           \n",
      "3        2       7  regular    NaN  2023-08-08           \n",
      "4        1     357  regular    NaN  2023-08-08   10:00   \n",
      "..     ...     ...      ...    ...         ...     ...   \n",
      "86      17      32  regular    NaN  2023-08-08   20:00   \n",
      "87       7       9  regular    NaN  2023-08-08   02:00   \n",
      "88       7       7  regular    NaN  2023-08-08   22:30   \n",
      "89       1      23  regular    NaN  2023-08-08   03:00   \n",
      "90      31      11  regular    NaN  2023-08-08   22:00   \n",
      "\n",
      "                     airstamp  ...  _embedded.show.id  \\\n",
      "0   2023-08-08T00:00:00+00:00  ...              63169   \n",
      "1   2023-08-08T00:00:00+00:00  ...              69820   \n",
      "2   2023-08-08T00:00:00+00:00  ...              69937   \n",
      "3   2023-08-08T02:00:00+00:00  ...              40916   \n",
      "4   2023-08-08T02:00:00+00:00  ...              54033   \n",
      "..                        ...  ...                ...   \n",
      "86  2023-08-09T00:00:00+00:00  ...               2266   \n",
      "87  2023-08-09T00:00:00+00:00  ...              33200   \n",
      "88  2023-08-09T00:30:00+00:00  ...              55227   \n",
      "89  2023-08-09T01:00:00+00:00  ...              69940   \n",
      "90  2023-08-09T02:00:00+00:00  ...                922   \n",
      "\n",
      "                                   _embedded.show.url   _embedded.show.name  \\\n",
      "0   https://www.tvmaze.com/shows/63169/na-straze-p...       На страже пляжа   \n",
      "1        https://www.tvmaze.com/shows/69820/zamaacnyj             Замаячный   \n",
      "2    https://www.tvmaze.com/shows/69937/posledovateli         Последователи   \n",
      "3      https://www.tvmaze.com/shows/40916/61st-street           61st Street   \n",
      "4   https://www.tvmaze.com/shows/54033/wu-shen-zhu...       Wu Shen Zhu Zai   \n",
      "..                                                ...                   ...   \n",
      "86          https://www.tvmaze.com/shows/2266/wwe-nxt               WWE NXT   \n",
      "87   https://www.tvmaze.com/shows/33200/forsta-dejten         Första Dejten   \n",
      "88       https://www.tvmaze.com/shows/55227/no-limite             No Limite   \n",
      "89          https://www.tvmaze.com/shows/69940/politi                Politi   \n",
      "90  https://www.tvmaze.com/shows/922/the-ultimate-...  The Ultimate Fighter   \n",
      "\n",
      "   _embedded.show.type _embedded.show.language _embedded.show.status  \\\n",
      "0             Scripted                 Russian               Running   \n",
      "1             Scripted                    None               Running   \n",
      "2             Scripted                 Russian               Running   \n",
      "3             Scripted                 English               Running   \n",
      "4            Animation                 Chinese               Running   \n",
      "..                 ...                     ...                   ...   \n",
      "86              Sports                 English               Running   \n",
      "87             Reality                 Swedish               Running   \n",
      "88             Reality              Portuguese               Running   \n",
      "89         Documentary               Norwegian               Running   \n",
      "90             Reality                 English               Running   \n",
      "\n",
      "    _embedded.show.runtime _embedded.show.averageRuntime  \\\n",
      "0                      NaN                          45.0   \n",
      "1                      NaN                           NaN   \n",
      "2                      NaN                           NaN   \n",
      "3                      NaN                          54.0   \n",
      "4                      5.0                           7.0   \n",
      "..                     ...                           ...   \n",
      "86                   120.0                          81.0   \n",
      "87                     NaN                          30.0   \n",
      "88                    90.0                          90.0   \n",
      "89                    25.0                          25.0   \n",
      "90                    60.0                          60.0   \n",
      "\n",
      "                          _embedded.show.officialSite           domain  \n",
      "0         https://premier.one/show/na-strazhe-plyazha      premier.one  \n",
      "1                                                None             None  \n",
      "2             https://premier.one/show/posledovateli/      premier.one  \n",
      "3   https://www.stan.com.au/watch/61st-street/seas...  www.stan.com.au  \n",
      "4       https://v.qq.com/x/cover/7q544xyrava3vxf.html         v.qq.com  \n",
      "..                                                ...              ...  \n",
      "86          http://www.wwe.com/inside/networkschedule      www.wwe.com  \n",
      "87               https://www.svtplay.se/forsta-dejten   www.svtplay.se  \n",
      "88       https://gshow.globo.com/realities/no-limite/  gshow.globo.com  \n",
      "89        https://play.tv2.no/programmer/fakta/politi      play.tv2.no  \n",
      "90                                https://ufc.com/tuf          ufc.com  \n",
      "\n",
      "[91 rows x 26 columns]\n"
     ]
    }
   ],
   "source": [
    "df_series_gen = pd.merge(df_series_gen, df_embedded, left_on=\"id\", right_on=\"id\", how=\"left\")\n",
    "print(df_series_gen)"
   ]
  },
  {
   "cell_type": "code",
   "execution_count": 165,
   "id": "c71d91ff",
   "metadata": {},
   "outputs": [
    {
     "data": {
      "text/plain": [
       "<AxesSubplot:xlabel='domain'>"
      ]
     },
     "execution_count": 165,
     "metadata": {},
     "output_type": "execute_result"
    },
    {
     "data": {
      "image/png": "[encoded data removed]",
      "text/plain": [
       "<Figure size 640x480 with 1 Axes>"
      ]
     },
     "metadata": {},
     "output_type": "display_data"
    }
   ],
   "source": [
    "sum_runtime_dom = df_series_gen.groupby('domain').sum()['runtime'].sort_values(ascending=False)\n",
    "sum_runtime_dom.reset_index().sort_values(by='runtime',ascending=False).iloc[0:10].plot(kind='bar',x='domain', y='runtime')\n"
   ]
  },
  {
   "cell_type": "code",
   "execution_count": 181,
   "id": "c114ac3e",
   "metadata": {},
   "outputs": [
    {
     "data": {
      "text/plain": [
       "<AxesSubplot:xlabel='genre_1'>"
      ]
     },
     "execution_count": 181,
     "metadata": {},
     "output_type": "execute_result"
    },
    {
     "data": {
      "image/png": "[encoded data removed]",
      "text/plain": [
       "<Figure size 640x480 with 1 Axes>"
      ]
     },
     "metadata": {},
     "output_type": "display_data"
    }
   ],
   "source": [
    "sum_runtime_gen = df_series_gen.groupby('genre_1').sum()['runtime'].sort_values(ascending=False)\n",
    "sum_runtime_gen.reset_index().sort_values(by='runtime',ascending=False).iloc[0:10].plot(kind='bar',x='genre_1', y='runtime')"
   ]
  },
  {
   "cell_type": "markdown",
   "id": "84c247f9",
   "metadata": {},
   "source": [
    "Creacion de archivos Parquet compresion Snappy\n"
   ]
  },
  {
   "cell_type": "code",
   "execution_count": 176,
   "id": "8c7a8c9e",
   "metadata": {},
   "outputs": [
    {
     "name": "stdout",
     "output_type": "stream",
     "text": [
      "DataFrame 0 guardado como ../data/dataframe_0.parquet\n",
      "DataFrame 1 guardado como ../data/dataframe_1.parquet\n",
      "DataFrame 2 guardado como ../data/dataframe_2.parquet\n",
      "DataFrame 3 guardado como ../data/dataframe_3.parquet\n",
      "DataFrame 4 guardado como ../data/dataframe_4.parquet\n",
      "DataFrame 5 guardado como ../data/dataframe_5.parquet\n",
      "DataFrame 6 guardado como ../data/dataframe_6.parquet\n"
     ]
    }
   ],
   "source": [
    "def df_to_parquet(dataframes, folder):\n",
    "\n",
    "    if not os.path.exists(folder):\n",
    "        os.makedirs(folder)\n",
    "   \n",
    "    for index, df in enumerate(dataframes):\n",
    "        filename = os.path.join(folder, f'dataframe_{index}.parquet')\n",
    "        df.to_parquet(filename, index=False, compression='snappy')\n",
    "        print(f\"DataFrame {index} guardado como {filename}\")\n",
    "\n",
    "\n",
    "dataframes_list = [df_series, df_countries, df_rating, df_series_data, df_links, df_embedded, df_show_genres_exp]\n",
    "\n",
    "# Ruta donde se guardarán los archivos Parquet\n",
    "folder = '../data/'\n",
    "\n",
    "# Llamar a la función para guardar los DataFrames en formato Parquet comprimido en Snappy\n",
    "df_to_parquet(dataframes_list, folder)\n"
   ]
  },
  {
   "cell_type": "code",
   "execution_count": 177,
   "id": "34c818d9",
   "metadata": {},
   "outputs": [
    {
     "name": "stdout",
     "output_type": "stream",
     "text": [
      "DataFrame 0 guardado como ../csv/dataframe_0.csv\n",
      "DataFrame 1 guardado como ../csv/dataframe_1.csv\n",
      "DataFrame 2 guardado como ../csv/dataframe_2.csv\n",
      "DataFrame 3 guardado como ../csv/dataframe_3.csv\n",
      "DataFrame 4 guardado como ../csv/dataframe_4.csv\n",
      "DataFrame 5 guardado como ../csv/dataframe_5.csv\n",
      "DataFrame 6 guardado como ../csv/dataframe_6.csv\n"
     ]
    }
   ],
   "source": [
    "def df_to_csv(dataframes, folder):\n",
    "\n",
    "    if not os.path.exists(folder):\n",
    "        os.makedirs(folder)\n",
    "   \n",
    "    for index, df in enumerate(dataframes):\n",
    "        filename = os.path.join(folder, f'dataframe_{index}.csv')\n",
    "        df.to_csv(filename, index=False)\n",
    "        print(f\"DataFrame {index} guardado como {filename}\")\n",
    "\n",
    "\n",
    "dataframes_list = [df_series, df_countries, df_rating, df_series_data, df_links, df_embedded, df_show_genres_exp]\n",
    "\n",
    "# Ruta donde se guardarán los archivos Parquet\n",
    "folder = '../csv/'\n",
    "\n",
    "# Llamar a la función para guardar los DataFrames en formato Parquet comprimido en Snappy\n",
    "df_to_csv(dataframes_list, folder)"
   ]
  }
 ],
 "metadata": {
  "kernelspec": {
   "display_name": "Python 3 (ipykernel)",
   "language": "python",
   "name": "python3"
  },
  "language_info": {
   "codemirror_mode": {
    "name": "ipython",
    "version": 3
   },
   "file_extension": ".py",
   "mimetype": "text/x-python",
   "name": "python",
   "nbconvert_exporter": "python",
   "pygments_lexer": "ipython3",
   "version": "3.9.13"
  }
 },
 "nbformat": 4,
 "nbformat_minor": 5
}
